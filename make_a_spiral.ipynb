{
 "cells": [
  {
   "cell_type": "markdown",
   "metadata": {},
   "source": [
    "### Make a Spiral\n",
    "##### Codewars | 3 kyu | 534e01fbbb17187c7e0000c6\n",
    "\n",
    "Create a ```N x N``` spiral given an integer ```size```. Return value should be a list of lists that contain ```0```s and ```1```s only. The first row should be all ```1```s. ```size``` will be at least 5."
   ]
  },
  {
   "cell_type": "code",
   "execution_count": 28,
   "metadata": {},
   "outputs": [],
   "source": [
    "def spiralize(size):\n",
    "    r = [[1 if i == 0 else 0 for _ in range(size)] for i in range(size)]\n",
    "    s, c, i, j = size - 1, True, 0, size - 1\n",
    "\n",
    "    def color(x, y, d, n):\n",
    "        '''\n",
    "        x - x coord to start at\n",
    "        y - y coord to start at\n",
    "        d - tuple, direction\n",
    "        n - how many to color\n",
    "        '''\n",
    "        for _ in range(n):\n",
    "            x += d[0]\n",
    "            y += d[1]\n",
    "            r[x][y] = 1\n",
    "        return x, y\n",
    "\n",
    "    while s > 0:\n",
    "        if c:\n",
    "            i, j = color(i, j, [1, 0], s)\n",
    "            if s == 1: break\n",
    "            i, j = color(i, j, [0, -1], s)\n",
    "            c = False\n",
    "        else:\n",
    "            i, j = color(i, j, [-1, 0], s)\n",
    "            if s == 1: break\n",
    "            i, j = color(i, j, [0, 1], s)\n",
    "            c = True\n",
    "        s -= 2\n",
    "\n",
    "    return r"
   ]
  },
  {
   "cell_type": "code",
   "execution_count": 29,
   "metadata": {},
   "outputs": [
    {
     "data": {
      "text/plain": [
       "[[1, 1, 1, 1, 1, 1, 1, 1, 1, 1],\n",
       " [0, 0, 0, 0, 0, 0, 0, 0, 0, 1],\n",
       " [1, 1, 1, 1, 1, 1, 1, 1, 0, 1],\n",
       " [1, 0, 0, 0, 0, 0, 0, 1, 0, 1],\n",
       " [1, 0, 1, 1, 1, 1, 0, 1, 0, 1],\n",
       " [1, 0, 1, 0, 0, 1, 0, 1, 0, 1],\n",
       " [1, 0, 1, 0, 0, 0, 0, 1, 0, 1],\n",
       " [1, 0, 1, 1, 1, 1, 1, 1, 0, 1],\n",
       " [1, 0, 0, 0, 0, 0, 0, 0, 0, 1],\n",
       " [1, 1, 1, 1, 1, 1, 1, 1, 1, 1]]"
      ]
     },
     "execution_count": 29,
     "metadata": {},
     "output_type": "execute_result"
    }
   ],
   "source": [
    "spiralize(10)"
   ]
  }
 ],
 "metadata": {
  "kernelspec": {
   "display_name": ".venv",
   "language": "python",
   "name": "python3"
  },
  "language_info": {
   "codemirror_mode": {
    "name": "ipython",
    "version": 3
   },
   "file_extension": ".py",
   "mimetype": "text/x-python",
   "name": "python",
   "nbconvert_exporter": "python",
   "pygments_lexer": "ipython3",
   "version": "3.11.9"
  }
 },
 "nbformat": 4,
 "nbformat_minor": 2
}
