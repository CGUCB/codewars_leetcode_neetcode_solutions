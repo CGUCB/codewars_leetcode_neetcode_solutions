{
 "cells": [
  {
   "cell_type": "markdown",
   "metadata": {},
   "source": [
    "#### Largest Rectangle In Histogram\n",
    "Neetcode 150 | Hard | Stack\n",
    "\n",
    "You are given an array of integers heights where heights[i] represents the height of a bar. The width of each bar is 1.\n",
    "\n",
    "Return the area of the largest rectangle that can be formed among the bars."
   ]
  },
  {
   "cell_type": "code",
   "execution_count": 23,
   "metadata": {},
   "outputs": [],
   "source": [
    "def largestRectangleArea(heights: list[int]) -> int:\n",
    "    s, m, r = [], [0 for _ in range(len(heights))], 0\n",
    "    # Go forwards to push right pointer, then backwards to find left\n",
    "    for i, h in enumerate(heights):\n",
    "        \n",
    "        # Decreasing height -> Pop until increasing\n",
    "        if s and h < s[-1][1]:\n",
    "            while s and (h < s[-1][1]):\n",
    "                c = s.pop()\n",
    "                m[c[0]] = (i - c[0]) * c[1]\n",
    "        \n",
    "        s.append([i, h])\n",
    "    \n",
    "    # Get rid of any remaining\n",
    "    while s:\n",
    "        c = s.pop()\n",
    "        m[c[0]] += (len(heights) - c[0]) * c[1]\n",
    "\n",
    "    # Do to reversed list to get other side of rectangle extension\n",
    "    for i, h in list(enumerate(heights))[::-1]:\n",
    "        \n",
    "        # Decreasing height -> Pop until increasing\n",
    "        if s and h < s[-1][1]:\n",
    "            while s and (h < s[-1][1]):\n",
    "                c = s.pop()\n",
    "                m[c[0]] += (c[0] - i - 1) * c[1]\n",
    "                r = max(r, m[c[0]])\n",
    "\n",
    "        s.append([i, h])\n",
    "    \n",
    "    # Get rid of any remaining\n",
    "    while s:\n",
    "        c = s.pop()\n",
    "        m[c[0]] += c[0] * c[1]\n",
    "        r = max(r, m[c[0]])\n",
    "\n",
    "    return r\n"
   ]
  },
  {
   "cell_type": "code",
   "execution_count": 24,
   "metadata": {},
   "outputs": [
    {
     "data": {
      "text/plain": [
       "8"
      ]
     },
     "execution_count": 24,
     "metadata": {},
     "output_type": "execute_result"
    }
   ],
   "source": [
    "largestRectangleArea([7,1,7,2,2,4])"
   ]
  }
 ],
 "metadata": {
  "kernelspec": {
   "display_name": ".venv",
   "language": "python",
   "name": "python3"
  },
  "language_info": {
   "codemirror_mode": {
    "name": "ipython",
    "version": 3
   },
   "file_extension": ".py",
   "mimetype": "text/x-python",
   "name": "python",
   "nbconvert_exporter": "python",
   "pygments_lexer": "ipython3",
   "version": "3.11.9"
  }
 },
 "nbformat": 4,
 "nbformat_minor": 2
}
