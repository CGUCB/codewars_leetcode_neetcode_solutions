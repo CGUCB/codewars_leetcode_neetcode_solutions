{
 "cells": [
  {
   "cell_type": "markdown",
   "metadata": {},
   "source": [
    "### Metaclasses - Simple Django Models\n",
    "##### Codewars | 3 kyu | 54b26b130786c9f7ed000555\n",
    "\n",
    "Django can create database tables through a feature called 'models.' For example:\n",
    "\n",
    "```json\n",
    "class Person(models.Model):\n",
    "    first_name = models.CharField()\n",
    "    last_name = models.CharField()\n",
    "```\n",
    "\n",
    "Apart from creating a table, it can preform validation, generate HTML forms, and so on thanks to **metaclasses**. The goal of this Kata is to understand how they work. \n",
    "\n",
    "Your task is to implement a class ```Model``` and classes for its fields to support specific functionality. The classes which inherit from ```Model``` should:\n",
    "- Support creation of fields using class-attribute sythax\n",
    "- Have a validate method which checks whether all fields are valid\n",
    "\n",
    "* **CharField** : a string with ```min_length``` (default: 0) and ```max_length``` (default: None) parameters. Inclusive if defined.\n",
    "* **IntegerField** : an integer with ```min_value``` (default: None) and ```max_value``` (default: None). Inclusive if defined.\n",
    "* **BooleanField** - a boolean\n",
    "* **DateTimeField** - a datetime with an extra parameter ```auto_now``` (default: False). If true and no default value has been provided, the current datetime should be used automatically at Model instantion time.\n",
    "* **EmailField** - a string in format of ```adress@subdomain.domain``` where ```address```, ```subdomain```, and ```domain``` are a sequence of alphabetical characters with ```min_length``` (default: 0), and ```max_length``` (default: None) parameters\n",
    "\n",
    "**Note**: Each type also has a parameter ```blank``` (default: False), which determines whether ```None``` is an allowable value AND ```default``` which determines the value to be used if nothing was provided at Model instantiation time. "
   ]
  },
  {
   "cell_type": "code",
   "execution_count": 1,
   "metadata": {},
   "outputs": [],
   "source": [
    "class ValidationError:\n",
    "    pass\n",
    "\n",
    "\n",
    "class CharField:\n",
    "    pass\n",
    "\n",
    "\n",
    "class IntegerField:\n",
    "    pass\n",
    "\n",
    "\n",
    "class BooleanField:\n",
    "    pass\n",
    "\n",
    "\n",
    "class DateTimeField:\n",
    "    pass\n",
    "    \n",
    "\n",
    "class EmailField:\n",
    "    pass\n",
    "\n",
    "\n",
    "class Model:\n",
    "    pass"
   ]
  }
 ],
 "metadata": {
  "kernelspec": {
   "display_name": ".venv",
   "language": "python",
   "name": "python3"
  },
  "language_info": {
   "codemirror_mode": {
    "name": "ipython",
    "version": 3
   },
   "file_extension": ".py",
   "mimetype": "text/x-python",
   "name": "python",
   "nbconvert_exporter": "python",
   "pygments_lexer": "ipython3",
   "version": "3.11.9"
  }
 },
 "nbformat": 4,
 "nbformat_minor": 2
}
