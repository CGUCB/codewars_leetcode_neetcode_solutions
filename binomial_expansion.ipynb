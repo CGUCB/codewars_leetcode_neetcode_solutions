{
 "cells": [
  {
   "cell_type": "markdown",
   "metadata": {},
   "source": [
    "### Binomial Expansion\n",
    "##### Codewars | 3 kyu | 540d0fdd3b6532e5c3000b5b\n",
    "\n",
    "Write a function expand that takes in an expression with a single, one character variable, and expands it. The expression is in the form (ax+b)^n where a and b are integers which may be positive or negative, x is any single character variable, and n is a natural number. If a = 1, no coefficient will be placed in front of the variable. If a = -1, a \"-\" will be placed in front of the variable.\n",
    "\n",
    "The expanded form should be returned as a string in the form ax^b+cx^d+ex^f... where a, c, and e are the coefficients of the term, x is the original one character variable that was passed in the original expression and b, d, and f, are the powers that x is being rais|ed to in each term and are in decreasing order.\n",
    "\n",
    "If the coefficient of a term is zero, the term should not be included. If the coefficient of a term is one, the coefficient should not be included. If the coefficient of a term is -1, only the \"-\" should be included. If the power of the term is 0, only the coefficient should be included. If the power of the term is 1, the caret and power should be excluded."
   ]
  },
  {
   "cell_type": "code",
   "execution_count": 66,
   "metadata": {},
   "outputs": [],
   "source": [
    "import re\n",
    "import math\n",
    "def expand(expr):\n",
    "    # Matching all terms w/ regex\n",
    "    m = r'\\((?P<a>-?\\d*)(?P<x>\\w)\\+?(?P<b>-?\\d*)\\)\\^(?P<n>\\d+)'\n",
    "    t = re.search(m, expr)\n",
    "    a, x, b, n = t.groupdict().values()\n",
    "    a = int(a) if a not in ['', '-'] else int(a + '1')\n",
    "    b, n = int(b), int(n)\n",
    "\n",
    "    # Corner cases\n",
    "    if n == 0: return '1'\n",
    "    if n == 1: return expr[1:-3]\n",
    "    if b == 0: return x + '^' + n\n",
    "\n",
    "    # Building the resulting expansion \n",
    "    ac = a ** n\n",
    "    r = str(ac) + x + '^' + str(n) if abs(a) != 1 else \\\n",
    "        str(ac)[:-1] + x + '^' + str(n)\n",
    "\n",
    "    for i, j in zip(range(int(n) - 1, 0, -1), range(1, int(n))):\n",
    "        # i -> a, x | j -> b\n",
    "        c = (a ** i) * (b ** j) * math.comb(n, j)\n",
    "        p = '' if i <= 1 else '^' + str(i)\n",
    "        r += ('' if c < 0 else '+') + \\\n",
    "            (str(c) if abs(c) != 1 else '') \\\n",
    "            + x + p\n",
    "\n",
    "    r += ('' if (b ** n) < 0 else '+') + str(b ** n) \n",
    "    return r"
   ]
  }
 ],
 "metadata": {
  "kernelspec": {
   "display_name": ".venv",
   "language": "python",
   "name": "python3"
  },
  "language_info": {
   "codemirror_mode": {
    "name": "ipython",
    "version": 3
   },
   "file_extension": ".py",
   "mimetype": "text/x-python",
   "name": "python",
   "nbconvert_exporter": "python",
   "pygments_lexer": "ipython3",
   "version": "3.11.9"
  }
 },
 "nbformat": 4,
 "nbformat_minor": 2
}
