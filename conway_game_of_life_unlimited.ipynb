{
 "cells": [
  {
   "cell_type": "markdown",
   "metadata": {
    "vscode": {
     "languageId": "bat"
    }
   },
   "source": [
    "### Conway's Game of Life - Unlimited Edition\n",
    "##### Codewars | 4 kyu | 52423db9add6f6fc39000354\n",
    "\n",
    "Given a 2D array and a number of generations, compute n timesteps of Conway's Game of Life. The rules of the game are:\n",
    "\n",
    "1. Any live cell with fewer than two live neighbours dies\n",
    "2. Any live cell with more than three live neighbours dies\n",
    "3. Any cell with two or three live neighbours lives to the next generation\n",
    "4. Any dead cell with exactly three live neighbours becomes a live cell \n",
    "\n",
    "A cell's neighborhood is the 8 cellls immediately around it. The universe is infinite, however the returned value should be a 2D array cropped around all living cells. In the event of no living cells, then return [[]]."
   ]
  },
  {
   "cell_type": "markdown",
   "metadata": {},
   "source": [
    "##### Brainstorming\n",
    "- Can convert the 2D array to a numpy array and use convolve to determine which cells should live onto the next generation. Can then use a dictionary to map the results to an alive or dead cell.\n",
    "- Can trim after every step versus only at the end to avoid needless additional convolutions. Trimming can be done by multiplying mx1 to figure out top and bottom trimming and a transposed version of matrix with nx1 to figure out side trimming. Stop mul once you hit a nonzero result\n",
    "- After the above two steps, can repeat in a loop for the required iterations and convert back into a 2D list"
   ]
  },
  {
   "cell_type": "code",
   "execution_count": 4,
   "metadata": {},
   "outputs": [],
   "source": [
    "import subprocess\n",
    "import sys\n",
    "\n",
    "def install_and_import(package):\n",
    "    import importlib\n",
    "    try:\n",
    "        importlib.import_module(package)\n",
    "    except ImportError:\n",
    "        subprocess.check_call([sys.executable, \"-m\", \"pip\", \"install\", package])\n",
    "\n",
    "install_and_import('scipy')"
   ]
  },
  {
   "cell_type": "code",
   "execution_count": 59,
   "metadata": {},
   "outputs": [],
   "source": [
    "from collections import defaultdict\n",
    "import numpy as np   \n",
    "from scipy import signal\n",
    "\n",
    "def get_generation(cells : list[list[int]], generations : int) -> list[list[int]]:\n",
    "    \n",
    "    # Filter to isolate cases \n",
    "    f = np.array([\n",
    "        [1, 1, 1],\n",
    "        [1, 10, 1],\n",
    "        [1, 1, 1]\n",
    "    ])\n",
    "    \n",
    "    # Converts filter outputs to a live or unalive cell\n",
    "    d = defaultdict(lambda: 0)\n",
    "    d[3], d[12], d[13] = 1, 1, 1\n",
    "    \n",
    "    # Conversion to numpy array makes it easier\n",
    "    c = np.array(cells) \n",
    "\n",
    "    for _ in range(generations):\n",
    "        \n",
    "        # pads whole array with 0s\n",
    "        c_pad = np.pad(c, 1, mode = 'constant')\n",
    "        \n",
    "        # Filter to isolate the different cases\n",
    "        c_conv = signal.convolve2d(c_pad, f, boundary = 'symm', mode = 'same')\n",
    "        \n",
    "        # Converts to live/unalive cells format\n",
    "        c_dict = np.vectorize(d.get)(c_conv)\n",
    "        c_dict[c_dict == None] = 0\n",
    "\n",
    "        # Trims extra columns and rows per iteration versus all at the end\n",
    "        cm = np.where(c_dict != 0)\n",
    "        c = c_dict[min(cm[0]) : max(cm[0]) + 1, min(cm[1]) : max(cm[1]) + 1].astype(int)\n",
    "\n",
    "    return c.tolist()"
   ]
  }
 ],
 "metadata": {
  "kernelspec": {
   "display_name": "Python 3",
   "language": "python",
   "name": "python3"
  },
  "language_info": {
   "codemirror_mode": {
    "name": "ipython",
    "version": 3
   },
   "file_extension": ".py",
   "mimetype": "text/x-python",
   "name": "python",
   "nbconvert_exporter": "python",
   "pygments_lexer": "ipython3",
   "version": "3.11.9"
  }
 },
 "nbformat": 4,
 "nbformat_minor": 2
}
