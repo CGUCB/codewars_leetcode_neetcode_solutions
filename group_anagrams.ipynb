{
 "cells": [
  {
   "cell_type": "markdown",
   "metadata": {},
   "source": [
    "#### Group Anagrams\n",
    "Neetcode 150 | Medium | Arrays & Hashing \n",
    "\n",
    "Given an array of strings strs, group all anagrams together into sublists. You may return the output in any order.\n",
    "\n",
    "An anagram is a string that contains the exact same characters as another string, but the order of the characters can be different."
   ]
  },
  {
   "cell_type": "code",
   "execution_count": null,
   "metadata": {},
   "outputs": [],
   "source": [
    "from collections import defaultdict\n",
    "class Solution:\n",
    "    def groupAnagrams(self, strs: list[str]) -> list[list[str]]:\n",
    "        d = defaultdict(lambda : [])\n",
    "        for w in strs:\n",
    "            v = [0 for _ in range(26)]\n",
    "            for c in w:\n",
    "                v[ord(c) - 97] += 1\n",
    "            d[tuple(v)].append(w)\n",
    "        return list(d.values())"
   ]
  }
 ],
 "metadata": {
  "kernelspec": {
   "display_name": ".venv",
   "language": "python",
   "name": "python3"
  },
  "language_info": {
   "name": "python",
   "version": "3.11.9"
  }
 },
 "nbformat": 4,
 "nbformat_minor": 2
}
