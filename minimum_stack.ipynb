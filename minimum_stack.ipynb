{
 "cells": [
  {
   "cell_type": "markdown",
   "metadata": {},
   "source": [
    "#### Minimum Stack\n",
    "Neetcode 150 | Medium | Stacks\n",
    "\n",
    "Design a stack class that supports the push, pop, top, and getMin operations.\n",
    "- MinStack() initializes the stack object.\n",
    "- void push(int val) pushes the element val onto the stack.\n",
    "- void pop() removes the element on the top of the stack.\n",
    "- int top() gets the top element of the stack.\n",
    "- int getMin() retrieves the minimum element in the stack.\n",
    "\n",
    "Each function should run in O(1) time."
   ]
  },
  {
   "cell_type": "code",
   "execution_count": null,
   "metadata": {},
   "outputs": [],
   "source": [
    "class MinStack:\n",
    "\n",
    "    def __init__(self):\n",
    "        self.stk = []\n",
    "        self.mstk = []\n",
    "\n",
    "    def push(self, val: int) -> None:\n",
    "        self.stk.append(val)\n",
    "        if len(self.mstk) == 0:\n",
    "            self.mstk.append(val)\n",
    "        else:\n",
    "            self.mstk.append(min(self.mstk[-1], val))\n",
    "\n",
    "    def pop(self) -> None:\n",
    "        if self.stk:\n",
    "            self.stk.pop(-1)\n",
    "            self.mstk.pop(-1)\n",
    "\n",
    "    def top(self) -> int:\n",
    "        return self.stk[-1]\n",
    "\n",
    "    def getMin(self) -> int:\n",
    "        return self.mstk[-1]\n",
    "        "
   ]
  }
 ],
 "metadata": {
  "kernelspec": {
   "display_name": ".venv",
   "language": "python",
   "name": "python3"
  },
  "language_info": {
   "name": "python",
   "version": "3.11.9"
  }
 },
 "nbformat": 4,
 "nbformat_minor": 2
}
