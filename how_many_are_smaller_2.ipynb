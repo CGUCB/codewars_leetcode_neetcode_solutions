{
 "cells": [
  {
   "cell_type": "markdown",
   "metadata": {},
   "source": [
    "### How many are smaller than me? II\n",
    "##### Codewars | 3 kyu | 56a1c63f3bc6827e13000006\n",
    "\n",
    "Given an array ```arr```, you have to return the amount of numbers smaller than ```arr[i]``` to thr right. Your solution will be tested against inputs with up to 120_000 elements. Time complexity must be ```O(nlogn)``` (with a decent constant) or better. "
   ]
  },
  {
   "cell_type": "code",
   "execution_count": 4,
   "metadata": {},
   "outputs": [],
   "source": [
    "def countSmaller(arr):\n",
    "    '''\n",
    "    How it works\n",
    "    ---\n",
    "    This meets time complexity because MergeSort runs in O(nlogn) time.\n",
    "    We start with two sorted arrays, in ascending order, Left and Right. We also have a count variable C.\n",
    "\n",
    "    Let A0 be the left-most/smallest value of the Left array, and B0 be the same for the Right.\n",
    "\n",
    "    As we are merging the numbers we keep a count of how many elements in the Right array (starting with B0 and going onward) \n",
    "    are smaller than A0. Once we exhaust this, we add the count C to the result array for A0 and add it into the merge. \n",
    "    -> All values less than A0 in the right array have been counted\n",
    "\n",
    "    We then do NOT reset the count C. Because Left is in sorted order, A1 >= A0, and thus every term in Right that A0 is greater than, A1\n",
    "    will also be greater than. \n",
    "\n",
    "    We will then repeat the procedure above for A1, A2, A3, ... until be have exhausted all values in both arrays.\n",
    "\n",
    "    Note: We do not need to compare numbers WITHIN the Left and Right arrays to eachother when modifying the result array\n",
    "    since this already occured in a previous recursive step.\n",
    "    '''\n",
    "\n",
    "    # Create array of tuples with (value, index) to track original positions\n",
    "    indexed_arr = list(enumerate(arr))\n",
    "    result = [0] * len(arr)\n",
    "    \n",
    "    def merge_sort(arr):\n",
    "        if len(arr) <= 1:\n",
    "            return arr\n",
    "            \n",
    "        mid = len(arr) // 2\n",
    "        left = merge_sort(arr[:mid])\n",
    "        right = merge_sort(arr[mid:])\n",
    "        return merge(left, right)\n",
    "    \n",
    "    def merge(left, right):\n",
    "        merged = []\n",
    "        i = j = 0\n",
    "        count = 0  # Count of elements smaller in right array\n",
    "        \n",
    "        # For each element in left array\n",
    "        while i < len(left) and j < len(right):\n",
    "            # If right element is smaller, increment count\n",
    "            if right[j][1] < left[i][1]:\n",
    "                merged.append(right[j])\n",
    "                j += 1\n",
    "                count += 1\n",
    "            else:\n",
    "                # Add count to result for the left element\n",
    "                result[left[i][0]] += count\n",
    "                merged.append(left[i])\n",
    "                i += 1\n",
    "        \n",
    "        # Handle remaining elements in left array\n",
    "        while i < len(left):\n",
    "            result[left[i][0]] += count\n",
    "            merged.append(left[i])\n",
    "            i += 1\n",
    "            \n",
    "        # Handle remaining elements in right array\n",
    "        while j < len(right):\n",
    "            merged.append(right[j])\n",
    "            j += 1\n",
    "            \n",
    "        return merged\n",
    "    \n",
    "    merge_sort(indexed_arr)\n",
    "    return result"
   ]
  },
  {
   "cell_type": "code",
   "execution_count": 5,
   "metadata": {},
   "outputs": [
    {
     "data": {
      "text/plain": [
       "[5, 2, 6, 6, 1, 1, 0, 0, 0, 0]"
      ]
     },
     "execution_count": 5,
     "metadata": {},
     "output_type": "execute_result"
    }
   ],
   "source": [
    "# [5, 2, 6, 6, 1, 1, 0, 0, 0, 0]\n",
    "countSmaller([5, 4, 7, 9, 2, 4, 1, 4, 5, 6])"
   ]
  },
  {
   "cell_type": "markdown",
   "metadata": {},
   "source": [
    "Beyond the modified Merge Sort above, another interesting approach is using the **bisect** library in python. For a sorted array (in a bisect object), the lookup time for an element is ```O(logn)```.\n",
    "\n",
    "**Note:** This is due to the sorted nature allowing for a binary tree to be used for the list. Insertions are still ```O(n)```, but deletions are amortized ```O(1)```.\n",
    "\n",
    "So what we can do is sort the array, place it in a bisect, and traverse the original array from left to right. We then look up the position of the number in our bisect and see how many numbers are smaller\\\n",
    "and lastly, remove the number from the bisect.\n",
    "\n",
    "**Why does this work?** Since we are starting on the left, we looking at all the rest of the numbers in the list. We can use bisect because it is also privy to all the numbers in the list.\\\n",
    "We then remove the current number from the bisect and move right on the original array. The bisect has the same elements as the original array. From here we can do the same thing because all\\\n",
    "the numbers to the right of the current one match all the numbers in the bisect (post-removal). Repeat until whole list is done."
   ]
  },
  {
   "cell_type": "markdown",
   "metadata": {},
   "source": []
  }
 ],
 "metadata": {
  "kernelspec": {
   "display_name": ".venv",
   "language": "python",
   "name": "python3"
  },
  "language_info": {
   "codemirror_mode": {
    "name": "ipython",
    "version": 3
   },
   "file_extension": ".py",
   "mimetype": "text/x-python",
   "name": "python",
   "nbconvert_exporter": "python",
   "pygments_lexer": "ipython3",
   "version": "3.11.9"
  }
 },
 "nbformat": 4,
 "nbformat_minor": 2
}
