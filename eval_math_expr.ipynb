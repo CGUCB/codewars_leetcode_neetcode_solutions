{
 "cells": [
  {
   "cell_type": "markdown",
   "metadata": {},
   "source": [
    "### Evaluate Mathematical Expression\n",
    "##### Codewars | 2 kyu | 52a78825cdfc2cfc87000005\n",
    "\n",
    "Given a mathematical expression as a string, you must return the result as a number\n",
    "- **Numbers** are both whole and/or decimals. The same is true for returned results\n",
    "- **Operators** follow the standard Multiplication ```*```, Division ```/``` (floating point), Addition ```+```, and Subtraction ```-```\n",
    "    - Operators evaluated left-to-right\n",
    "    - ```*``` and ```/``` are evaluated before ```+``` and ```-```\n",
    "- **Parentheses** must support nesting \n",
    "- **Whitespace** may or may not be present\n",
    "    - The minus sign ```-``` used for negating numbers and parentheses will never be seperated by whitespace"
   ]
  },
  {
   "cell_type": "code",
   "execution_count": 21,
   "metadata": {},
   "outputs": [
    {
     "data": {
      "text/plain": [
       "['-(3 -(-1))', '+', '89.2', '+', '-(9 - 3 + 1)', '/', '75.1']"
      ]
     },
     "execution_count": 21,
     "metadata": {},
     "output_type": "execute_result"
    }
   ],
   "source": [
    "import regex\n",
    "\n",
    "pat = '(-?\\d+\\.?\\d*|-?\\((?:[^)(]+|(?R))*+\\))'\n",
    "\n",
    "t = '-7.87 *-(6 / 3)'\n",
    "x = '6 +-( -4)'\n",
    "p = '(3 -(-1)) + 89.2 -(9 - 3 + 1) / 75.1'\n",
    "\n",
    "tmp1 = regex.split(pattern = pat, string = p)[1:-1]\n",
    "tmp2 = list(map(lambda x : x.strip() if len(x.strip()) > 0 else '+', tmp1))\n",
    "tmp2"
   ]
  },
  {
   "cell_type": "code",
   "execution_count": null,
   "metadata": {},
   "outputs": [],
   "source": [
    "# TODO use look ahead and look behind in regex to eliminate mt2 step\n",
    "def calc(expression):\n",
    "\n",
    "    pat = '(-?\\d+\\.?\\d*|-?\\((?:[^)(]+|(?R))*+\\))'\n",
    "\n",
    "    # Matches the regex pattern, regex used instead of re to support recursive calls\n",
    "    mt1 = regex.split(pattern = pat, string = expression)[1:-1]\n",
    "\n",
    "    # Trim operations and replace any blank operations with '+' as the original '-'\n",
    "    # is included as part of the terms rather than as an operation\n",
    "    mt2 = list(map(lambda x : x.strip() if len(x.strip()) > 0 else '+', tmp1))\n",
    "\n",
    "    expr = mt2[::2]\n",
    "    ops = mt2[1::2]\n",
    "\n",
    "    # Recursively call calc on parenthesis expressions and convert strings to numbers\n",
    "    for i in range(len(expr)):\n",
    "        if '(' in expr[i]:\n",
    "            if expr[i][0] == '-':\n",
    "                expr[i] = -1 * calc(expr[i][2:1])\n",
    "            else:\n",
    "                expr[i] = calc(expr[i][1:1])\n",
    "        else:\n",
    "            expr[i] = float(expr[i])\n",
    "    \n",
    "    r = 0\n",
    "\n",
    "    # Resolve \n"
   ]
  }
 ],
 "metadata": {
  "kernelspec": {
   "display_name": ".venv",
   "language": "python",
   "name": "python3"
  },
  "language_info": {
   "codemirror_mode": {
    "name": "ipython",
    "version": 3
   },
   "file_extension": ".py",
   "mimetype": "text/x-python",
   "name": "python",
   "nbconvert_exporter": "python",
   "pygments_lexer": "ipython3",
   "version": "3.11.9"
  }
 },
 "nbformat": 4,
 "nbformat_minor": 2
}
