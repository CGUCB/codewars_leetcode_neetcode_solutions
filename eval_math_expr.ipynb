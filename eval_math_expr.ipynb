{
 "cells": [
  {
   "cell_type": "markdown",
   "metadata": {},
   "source": [
    "### Evaluate Mathematical Expression\n",
    "##### Codewars | 2 kyu | 52a78825cdfc2cfc87000005\n",
    "\n",
    "Given a mathematical expression as a string, you must return the result as a number\n",
    "- **Numbers** are both whole and/or decimals. The same is true for returned results\n",
    "- **Operators** follow the standard Multiplication ```*```, Division ```/``` (floating point), Addition ```+```, and Subtraction ```-```\n",
    "    - Operators evaluated left-to-right\n",
    "    - ```*``` and ```/``` are evaluated before ```+``` and ```-```\n",
    "- **Parentheses** must support nesting \n",
    "- **Whitespace** may or may not be present\n",
    "    - The minus sign ```-``` used for negating numbers and parentheses will never be seperated by whitespace"
   ]
  },
  {
   "cell_type": "code",
   "execution_count": 14,
   "metadata": {},
   "outputs": [
    {
     "data": {
      "text/plain": [
       "['', '(3 -(-1))', ' + ', '89.2', ' ', '-(9 - 3 + 1)', ' / ', '75.1', '']"
      ]
     },
     "execution_count": 14,
     "metadata": {},
     "output_type": "execute_result"
    }
   ],
   "source": [
    "import re\n",
    "import regex\n",
    "\n",
    "pat = '(-?\\d+\\.?\\d*|-?\\((?:[^)(]+|(?R))*+\\))'\n",
    "t = '-7.87 *-(6 / 3)'\n",
    "x = '6 +-( -4)'\n",
    "p = '(3 -(-1)) + 89.2 -(9 - 3 + 1) / 75.1'\n",
    "\n",
    "tmp = regex.split(pattern = pat, string = p)\n",
    "tmp"
   ]
  }
 ],
 "metadata": {
  "kernelspec": {
   "display_name": ".venv",
   "language": "python",
   "name": "python3"
  },
  "language_info": {
   "codemirror_mode": {
    "name": "ipython",
    "version": 3
   },
   "file_extension": ".py",
   "mimetype": "text/x-python",
   "name": "python",
   "nbconvert_exporter": "python",
   "pygments_lexer": "ipython3",
   "version": "3.11.9"
  }
 },
 "nbformat": 4,
 "nbformat_minor": 2
}
