{
 "cells": [
  {
   "cell_type": "markdown",
   "metadata": {},
   "source": [
    "### Evaluate Mathematical Expression\n",
    "##### Codewars | 2 kyu | 52a78825cdfc2cfc87000005\n",
    "\n",
    "Given a mathematical expression as a string, you must return the result as a number\n",
    "- **Numbers** are both whole and/or decimals. The same is true for returned results\n",
    "- **Operators** follow the standard Multiplication ```*```, Division ```/``` (floating point), Addition ```+```, and Subtraction ```-```\n",
    "    - Operators evaluated left-to-right\n",
    "    - ```*``` and ```/``` are evaluated before ```+``` and ```-```\n",
    "- **Parentheses** must support nesting \n",
    "- **Whitespace** may or may not be present\n",
    "    - The minus sign ```-``` used for negating numbers and parentheses will never be seperated by whitespace"
   ]
  },
  {
   "cell_type": "code",
   "execution_count": 5,
   "metadata": {},
   "outputs": [
    {
     "data": {
      "text/plain": [
       "['(3-(-1))', '+', '89.2', '-', '(9-3+1)', '/', '75.1']"
      ]
     },
     "execution_count": 5,
     "metadata": {},
     "output_type": "execute_result"
    }
   ],
   "source": [
    "import regex\n",
    "\n",
    "pat = '((?:(?<=[-+\\/\\*])-|^-)?(?:\\d+\\.?\\d*|\\((?:[^)(]+|(?R))*+\\)))'\n",
    "\n",
    "t = '-7.87 *-(6 / 3)'\n",
    "x = '6 +-( -4)'\n",
    "p = '(3 -(-1)) + 89.2 -(9 - 3 + 1) / 75.1'\n",
    "\n",
    "tmp1 = regex.split(pattern = pat, string = p.replace(' ', ''))[1:-1]\n",
    "tmp1"
   ]
  },
  {
   "cell_type": "code",
   "execution_count": 27,
   "metadata": {},
   "outputs": [],
   "source": [
    "import pip\n",
    "import operator\n",
    "try:\n",
    "    import regex\n",
    "except ImportError:\n",
    "    pip.main(['install', 'regex'])\n",
    "    import regex\n",
    "\n",
    "def calc(expression):\n",
    "\n",
    "    mdd = {'*' : operator.mul, '/' : operator.truediv}\n",
    "    psd = {'+' : operator.add, '-' : operator.sub}\n",
    "    pat = '((?:(?<=[-+\\/\\*])-|^-)?(?:\\d+\\.?\\d*|\\((?:[^)(]+|(?R))*+\\)))'\n",
    "\n",
    "    # Removes whitespace for better matching\n",
    "    mt0 = expression.replace(' ', '')\n",
    "\n",
    "    # Matches the regex pattern, regex used instead of re to support recursive calls\n",
    "    mt1 = regex.split(pattern = pat, string = mt0)[1:-1]\n",
    "\n",
    "    # Splits list into expressions to be evaluated annd opeprations betwee those expressionns\n",
    "    expr = mt1[::2]\n",
    "    ops = mt1[1::2] if len(mt1) > 1 else []\n",
    "\n",
    "    # Recursively call calc on parenthesis expressions and convert strings to numbers\n",
    "    for i in range(len(expr)):\n",
    "        if '(' in expr[i]:\n",
    "            if expr[i][0] == '-':\n",
    "                expr[i] = -1 * calc(expr[i][2:-1])\n",
    "            else:\n",
    "                expr[i] = calc(expr[i][1:-1])\n",
    "        else:\n",
    "            expr[i] = float(expr[i])\n",
    "    \n",
    "    # Edge case if no operations exist\n",
    "    if len(expr) == 1: return expr[0]\n",
    "\n",
    "    # Loop through list for * and /, the + and -\n",
    "    for d_ in [mdd, psd]:\n",
    "        i = 0\n",
    "        while i < len(ops):\n",
    "            if ops[i] in d_:\n",
    "                expr[i] = d_[ops.pop(i)](expr[i], expr[i + 1])\n",
    "                expr.pop(i + 1)\n",
    "            else:\n",
    "                i += 1\n",
    "\n",
    "    return expr[0]\n"
   ]
  },
  {
   "cell_type": "code",
   "execution_count": 29,
   "metadata": {},
   "outputs": [
    {
     "data": {
      "text/plain": [
       "93.10679094540613"
      ]
     },
     "execution_count": 29,
     "metadata": {},
     "output_type": "execute_result"
    }
   ],
   "source": [
    "calc('(3 -(-1)) + 89.2 -(9 - 3 + 1) / 75.1')"
   ]
  }
 ],
 "metadata": {
  "kernelspec": {
   "display_name": ".venv",
   "language": "python",
   "name": "python3"
  },
  "language_info": {
   "codemirror_mode": {
    "name": "ipython",
    "version": 3
   },
   "file_extension": ".py",
   "mimetype": "text/x-python",
   "name": "python",
   "nbconvert_exporter": "python",
   "pygments_lexer": "ipython3",
   "version": "3.11.9"
  }
 },
 "nbformat": 4,
 "nbformat_minor": 2
}
