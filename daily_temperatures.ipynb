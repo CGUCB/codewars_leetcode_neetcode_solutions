{
 "cells": [
  {
   "cell_type": "markdown",
   "metadata": {},
   "source": [
    "#### Daily Temperatures\n",
    "Neetcode 150 | Medium | Stack\n",
    "\n",
    "You are given an array of integers temperatures where temperatures[i] represents the daily temperatures on the ith day.\n",
    "\n",
    "Return an array result where result[i] is the number of days after the ith day before a warmer temperature app|ears on a future day. If there is no day in the future where a warmer temperature will appear for the ith day, set result[i] to 0 instead."
   ]
  },
  {
   "cell_type": "code",
   "execution_count": 1,
   "metadata": {},
   "outputs": [],
   "source": [
    "def dailyTemperatures(temperatures: list[int]) -> list[int]:\n",
    "    s, r = [], [0 for _ in range(len(temperatures))]\n",
    "\n",
    "    for i, t in enumerate(temperatures):\n",
    "\n",
    "        # Empty stack \n",
    "        if not s: \n",
    "            s.append([i, t])\n",
    "        \n",
    "        # Decreasing or equal entry\n",
    "        elif t <= s[-1][1]:\n",
    "            s.append([i, t])\n",
    "        \n",
    "        # Increasing Entry\n",
    "        else:\n",
    "            while s and (t > s[-1][1]):\n",
    "                pt = s.pop(-1)\n",
    "                r[pt[0]] = i - pt[0]\n",
    "            s.append([i, t])\n",
    "    return r\n"
   ]
  },
  {
   "cell_type": "code",
   "execution_count": 2,
   "metadata": {},
   "outputs": [
    {
     "data": {
      "text/plain": [
       "[1, 4, 1, 2, 1, 0, 0]"
      ]
     },
     "execution_count": 2,
     "metadata": {},
     "output_type": "execute_result"
    }
   ],
   "source": [
    "dailyTemperatures([30,38,30,36,35,40,28])"
   ]
  }
 ],
 "metadata": {
  "kernelspec": {
   "display_name": ".venv",
   "language": "python",
   "name": "python3"
  },
  "language_info": {
   "codemirror_mode": {
    "name": "ipython",
    "version": 3
   },
   "file_extension": ".py",
   "mimetype": "text/x-python",
   "name": "python",
   "nbconvert_exporter": "python",
   "pygments_lexer": "ipython3",
   "version": "3.11.9"
  }
 },
 "nbformat": 4,
 "nbformat_minor": 2
}
