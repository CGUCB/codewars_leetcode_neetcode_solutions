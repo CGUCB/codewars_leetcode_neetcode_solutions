{
 "cells": [
  {
   "cell_type": "markdown",
   "metadata": {},
   "source": [
    "#### Evaluate Reverse Polish Notation\n",
    "Neetcode 150 | Medium | Stacks\n",
    "\n",
    "You are given an array of strings tokens that represents a valid arithmetic expression in Reverse Polish Notation. Return the integer that represents the evaluation of the expression.\n",
    "\n",
    "- The operands may be integers or the results of other operations.\n",
    "- The operators include '+', '-', '*', and '/'.\n",
    "- Assume that division between integers always truncates toward zero.\n",
    "\n",
    "You should aim for a solution with O(n) time and O(n) space, where n is the size of the input array. "
   ]
  },
  {
   "cell_type": "code",
   "execution_count": null,
   "metadata": {},
   "outputs": [],
   "source": [
    "class Solution:\n",
    "    def evalRPN(self, tokens: list[str]) -> int:\n",
    "        stk = []\n",
    "        for t in tokens:\n",
    "            match t:\n",
    "                case '+':\n",
    "                    x, y = stk.pop(-1), stk.pop(-1)\n",
    "                    stk.append(x + y)\n",
    "                case '-':\n",
    "                    x, y = stk.pop(-1), stk.pop(-1)\n",
    "                    stk.append(y - x)\n",
    "                case '*':\n",
    "                    x, y = stk.pop(-1), stk.pop(-1)\n",
    "                    stk.append(x * y)\n",
    "                case '/':\n",
    "                    x, y = stk.pop(-1), stk.pop(-1)\n",
    "                    stk.append(int(y / x))\n",
    "                case _:\n",
    "                    stk.append(int(t))\n",
    "        return stk[0]\n",
    "        "
   ]
  }
 ],
 "metadata": {
  "kernelspec": {
   "display_name": ".venv",
   "language": "python",
   "name": "python3"
  },
  "language_info": {
   "name": "python",
   "version": "3.11.9"
  }
 },
 "nbformat": 4,
 "nbformat_minor": 2
}
