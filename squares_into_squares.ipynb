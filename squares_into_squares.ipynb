{
 "cells": [
  {
   "cell_type": "markdown",
   "metadata": {},
   "source": [
    "### Squares into Squares. Protect trees!\n",
    "##### Codewars | 4 kyu | 54eb33e5bc1a25440d000891\n",
    "\n",
    "Given a positive integral number n, return a strictly increasing sequence (list/array/string depending on the language) of numbers, so that the sum of the squares is equal to n². \n",
    "\n",
    "- If there are multiple solutions, return the result with the largest possible values.\n",
    "- [n] is not a solution, not is [1,1,...,1]. The sequence must me strictly decreasing. \n",
    "- If a solution doesn't exist return \"None\"\n",
    "- Return numbers in a strictly increasing python llist"
   ]
  },
  {
   "cell_type": "markdown",
   "metadata": {},
   "source": [
    "##### Brainstorming\n",
    "\n",
    "Has to be a stack where we use DFS to traverse from n-1 downwards until a match is found or the stack is empty. "
   ]
  },
  {
   "cell_type": "code",
   "execution_count": 12,
   "metadata": {},
   "outputs": [],
   "source": [
    "# Note: Implementation too slow\n",
    "def decompose_legacy(n):\n",
    "    stk, g, c = [n-1], n ** 2, (n-1) ** 2\n",
    "    while True:\n",
    "\n",
    "        # If we only have [1] in the stack, base faiure case\n",
    "        if stk == [1]:\n",
    "            return None\n",
    "\n",
    "        # If we have met the goal, return the result\n",
    "        elif g == c:\n",
    "            return stk[::-1]\n",
    "        \n",
    "        # If we are currently over the goal and the current number can be decreased, do so\n",
    "        elif (c > g) and (stk[-1] > 1):\n",
    "            c -= (stk[-1] ** 2 - (stk[-1] - 1) ** 2)\n",
    "            stk[-1] = stk[-1] - 1\n",
    "\n",
    "        # If we can add a number, add the next strictly decreasing one\n",
    "        # We MUST be adding a positive number\n",
    "        elif (g > c) and (stk[-1] > 1):\n",
    "            c += (stk[-1] - 1) ** 2\n",
    "            stk.append(stk[-1] - 1)\n",
    "        \n",
    "        # If the last number is 1 and we aren't equal to the goal, backtrack current and previous number\n",
    "        else:\n",
    "            stk.pop()\n",
    "            l = stk.pop()\n",
    "            c -= (l ** 2) + 1 - ((l - 1) ** 2)\n",
    "            stk.append(l - 1)"
   ]
  },
  {
   "cell_type": "code",
   "execution_count": 18,
   "metadata": {},
   "outputs": [],
   "source": [
    "def decompose(n):\n",
    "    stk = [n]\n",
    "    g = 0\n",
    "    while stk:\n",
    "\n",
    "        # Pops off last number cause its not a solution \n",
    "        # Add this number to the goal cause removed from list\n",
    "        c = stk.pop() - 1\n",
    "        g += (c + 1) ** 2\n",
    "        \n",
    "        while c > 0:\n",
    "\n",
    "            # If we are way over the goal, floor the square root of the current goal\n",
    "            # It is the min number that allows us to add and be under the goal\n",
    "            if g - (c ** 2) < 0:\n",
    "                c = int(g ** 0.5)\n",
    "\n",
    "            # Will add numbers to list in a decreasing manner, as long as we are under goal\n",
    "            else:\n",
    "                g -= c ** 2\n",
    "                stk.append(c)\n",
    "                c -= 1\n",
    "                if g == 0:\n",
    "                    return stk[::-1]\n",
    "    return None"
   ]
  },
  {
   "cell_type": "code",
   "execution_count": 19,
   "metadata": {},
   "outputs": [
    {
     "name": "stdout",
     "output_type": "stream",
     "text": [
      "[1, 3, 5, 8, 49]\n"
     ]
    }
   ],
   "source": [
    "print(decompose(50))"
   ]
  }
 ],
 "metadata": {
  "kernelspec": {
   "display_name": ".venv",
   "language": "python",
   "name": "python3"
  },
  "language_info": {
   "codemirror_mode": {
    "name": "ipython",
    "version": 3
   },
   "file_extension": ".py",
   "mimetype": "text/x-python",
   "name": "python",
   "nbconvert_exporter": "python",
   "pygments_lexer": "ipython3",
   "version": "3.11.9"
  }
 },
 "nbformat": 4,
 "nbformat_minor": 2
}
