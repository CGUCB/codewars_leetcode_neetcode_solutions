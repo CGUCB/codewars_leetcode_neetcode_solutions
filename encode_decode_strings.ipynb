{
 "cells": [
  {
   "cell_type": "markdown",
   "metadata": {},
   "source": [
    "#### Encode and Decode Strings\n",
    "Neetcode 150 | Medium | Arrays & Hashing \n",
    "\n",
    "Design an algorithm to encode a list of strings to a single string. The encoded string is then decoded back to the original list of strings.\n",
    "\n",
    "Please implement encode and decode. You should aim for a solution with O(m) time and O(1) space for each encode() and decode() call, where m is the sum of lengths of all the strings."
   ]
  },
  {
   "cell_type": "code",
   "execution_count": null,
   "metadata": {},
   "outputs": [],
   "source": [
    "class Solution:\n",
    "\n",
    "    def encode(self, strs: list[str]) -> str:\n",
    "        r = list(map(lambda s: str(len(s)) + '@' + s, strs))\n",
    "        return ''.join(r)\n",
    "\n",
    "    def decode(self, s: str) -> list[str]:\n",
    "        r = []\n",
    "        while len(s) > 0:\n",
    "            i = s.find('@')\n",
    "            j = int(s[:i])\n",
    "            r.append(s[i + 1: i + j + 1])\n",
    "            s = s[i + j + 1:]\n",
    "        return r\n"
   ]
  }
 ],
 "metadata": {
  "kernelspec": {
   "display_name": ".venv",
   "language": "python",
   "name": "python3"
  },
  "language_info": {
   "name": "python",
   "version": "3.11.9"
  }
 },
 "nbformat": 4,
 "nbformat_minor": 2
}
