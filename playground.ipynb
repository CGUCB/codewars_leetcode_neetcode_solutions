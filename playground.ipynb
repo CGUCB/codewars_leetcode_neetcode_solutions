{
 "cells": [
  {
   "cell_type": "code",
   "execution_count": 2,
   "metadata": {},
   "outputs": [],
   "source": [
    "def shiftingLetters(s, shifts):\n",
    "    \"\"\"\n",
    "    :type s: str\n",
    "    :type shifts: List[List[int]]\n",
    "    :rtype: str\n",
    "    \"\"\"\n",
    "    N = len(s)\n",
    "    p = [0] * (N + 1)\n",
    "    res = []\n",
    "\n",
    "    for st, e, d in shifts:\n",
    "        if d == 1:\n",
    "            p[st] += 1\n",
    "            p[e + 1] -= 1\n",
    "        else:\n",
    "            p[st] -= 1\n",
    "            p[e + 1] += 1\n",
    "    \n",
    "    for i in range(1, N):\n",
    "        p[i] += p[i - 1]\n",
    "    \n",
    "    for i, c in enumerate(s):\n",
    "        res.append(chr(((ord(c) - 97 + p[i]) % 26) + 97))\n",
    "    \n",
    "    return ''.join(res)\n",
    "    "
   ]
  },
  {
   "cell_type": "code",
   "execution_count": 3,
   "metadata": {},
   "outputs": [
    {
     "data": {
      "text/plain": [
       "'ace'"
      ]
     },
     "execution_count": 3,
     "metadata": {},
     "output_type": "execute_result"
    }
   ],
   "source": [
    "shiftingLetters('abc', [[0,1,0],[1,2,1],[0,2,1]])"
   ]
  },
  {
   "cell_type": "code",
   "execution_count": 4,
   "metadata": {},
   "outputs": [],
   "source": [
    "def hasMatch(s, p):\n",
    "    a, b = p.split('*')\n",
    "    N, T = len(s), len(a)\n",
    "\n",
    "    i = 0 # Only execute if a exists\n",
    "    while a and i <= (N - T):\n",
    "\n",
    "        if a == s[i:i + T]:\n",
    "            s = s[i + T:]\n",
    "            break\n",
    "        \n",
    "        # If we don't find a then \n",
    "        # regardless of b we are false\n",
    "        if (i == (N - T)):\n",
    "            return False\n",
    "\n",
    "        i += 1\n",
    "\n",
    "    if b in s: \n",
    "        return True\n",
    "    return False"
   ]
  },
  {
   "cell_type": "code",
   "execution_count": 5,
   "metadata": {},
   "outputs": [],
   "source": [
    "def maxConsecutiveAnswers(answerKey, k):\n",
    "    \"\"\"\n",
    "    :type answerKey: str\n",
    "    :type k: int\n",
    "    :rtype: int\n",
    "    \"\"\"\n",
    "    # Base case\n",
    "    if len(answerKey) <= k: \n",
    "        return k\n",
    "\n",
    "    M, N = 0, len(answerKey)\n",
    "    L, R = 0, k\n",
    "    T = sum([1 for i in answerKey[:k] if i == 'T'])\n",
    "    F = k - T\n",
    "\n",
    "    while R < N:\n",
    "\n",
    "        # Adding in incremented R\n",
    "        if answerKey[R] == 'T':\n",
    "            T += 1\n",
    "        else:\n",
    "            F += 1\n",
    "\n",
    "        # Incrementing L if invalid\n",
    "        while min(T, F) > k:\n",
    "            if answerKey[L] == 'T':\n",
    "                T -= 1\n",
    "            else:\n",
    "                F -= 1\n",
    "            L += 1\n",
    "        \n",
    "        M = max(M, R - L)\n",
    "        R += 1\n",
    "        \n",
    "    return M + 1"
   ]
  },
  {
   "cell_type": "code",
   "execution_count": 6,
   "metadata": {},
   "outputs": [
    {
     "data": {
      "text/plain": [
       "5"
      ]
     },
     "execution_count": 6,
     "metadata": {},
     "output_type": "execute_result"
    }
   ],
   "source": [
    "maxConsecutiveAnswers('TTFTTFTT', 1)"
   ]
  },
  {
   "cell_type": "code",
   "execution_count": 7,
   "metadata": {},
   "outputs": [],
   "source": [
    "def threeSumClosest(nums: list[int], target: int) -> int:\n",
    "    d, r, nums, N = float('inf'), float('inf'), sorted(nums), len(nums)\n",
    "    for i in range(N):\n",
    "        nt = target - nums[i]\n",
    "        j, k = i + 1, N - 1\n",
    "        while j < k:\n",
    "            cj, ck = nums[j], nums[k]\n",
    "            nd = cj + ck - nt\n",
    "            if abs(nd) < d:\n",
    "                r, d = nd + target, abs(nd)\n",
    "            if cj + ck > nt:\n",
    "                k -= 1\n",
    "            else:\n",
    "                j += 1\n",
    "    return r"
   ]
  },
  {
   "cell_type": "code",
   "execution_count": 8,
   "metadata": {},
   "outputs": [
    {
     "data": {
      "text/plain": [
       "2"
      ]
     },
     "execution_count": 8,
     "metadata": {},
     "output_type": "execute_result"
    }
   ],
   "source": [
    "threeSumClosest([-1, 2, 1, -4], 1)"
   ]
  },
  {
   "cell_type": "code",
   "execution_count": 9,
   "metadata": {},
   "outputs": [
    {
     "name": "stdout",
     "output_type": "stream",
     "text": [
      "a 2\n",
      "b 1\n",
      "c 1\n"
     ]
    }
   ],
   "source": [
    "from collections import Counter\n",
    "c = Counter('aabc')\n",
    "for k, v in c.items():\n",
    "    print(k, v)"
   ]
  },
  {
   "cell_type": "code",
   "execution_count": 10,
   "metadata": {},
   "outputs": [],
   "source": [
    "from collections import Counter\n",
    "def canConstruct(s: str, k: int):\n",
    "    c, odd = Counter(s), 0\n",
    "    for v in c.values():\n",
    "        if v % 2:\n",
    "            odd += 1\n",
    "    if (odd <= k <= len(s)):\n",
    "        return True\n",
    "    return False"
   ]
  },
  {
   "cell_type": "code",
   "execution_count": 11,
   "metadata": {},
   "outputs": [
    {
     "name": "stdout",
     "output_type": "stream",
     "text": [
      "annabelle 2 True True\n",
      "leetcode 3 False False\n",
      "true 4 True True\n",
      "aaa 2 True True\n",
      "qlkzenwmmnpkopu 15 True True\n"
     ]
    },
    {
     "data": {
      "text/plain": [
       "True"
      ]
     },
     "execution_count": 11,
     "metadata": {},
     "output_type": "execute_result"
    }
   ],
   "source": [
    "print('annabelle 2 True', canConstruct('annabelle', 2))\n",
    "print('leetcode 3 False', canConstruct('leetcode', 3))\n",
    "print('true 4 True', canConstruct('true', 4))\n",
    "print('aaa 2 True', canConstruct('aaa', 2))\n",
    "print('qlkzenwmmnpkopu 15 True', canConstruct('qlkzenwmmnpkopu', 15))\n",
    "canConstruct('dhtoglkxhclrhipoxbfxqwqrxpcyucfnconitxbskzadzvbxrjbaywsixmrhdgkhyurqstugcgyaxjgiigkccdrhsmpafclkrkvxzvvhdrg', 88)"
   ]
  },
  {
   "cell_type": "code",
   "execution_count": 12,
   "metadata": {},
   "outputs": [
    {
     "data": {
      "text/plain": [
       "'4321'"
      ]
     },
     "execution_count": 12,
     "metadata": {},
     "output_type": "execute_result"
    }
   ],
   "source": [
    "'-1234'[:0:-1]"
   ]
  },
  {
   "cell_type": "code",
   "execution_count": 13,
   "metadata": {},
   "outputs": [],
   "source": [
    "from collections import Counter\n",
    "def minimumLength(s: str) -> int:\n",
    "    r, c = 0, Counter(s)\n",
    "    for _, v in c.items():\n",
    "        if v % 2: # Odd num chars\n",
    "            r += 1\n",
    "        else: # Even num chars\n",
    "            r += 2\n",
    "    return r"
   ]
  },
  {
   "cell_type": "code",
   "execution_count": 14,
   "metadata": {},
   "outputs": [
    {
     "data": {
      "text/plain": [
       "5"
      ]
     },
     "execution_count": 14,
     "metadata": {},
     "output_type": "execute_result"
    }
   ],
   "source": [
    "minimumLength(\"abaacbcbb\")"
   ]
  },
  {
   "cell_type": "code",
   "execution_count": 15,
   "metadata": {},
   "outputs": [],
   "source": [
    "def minOperations(boxes: str):\n",
    "    N = len(boxes)\n",
    "    r = [0 for _ in range(N)]\n",
    "\n",
    "    pre, suf = [0], [0]\n",
    "    pre_cnt, suf_cnt = [0], [0]\n",
    "    for i in range(1, N):\n",
    "        p, s = int(boxes[i - 1]), int(boxes[-i])\n",
    "        pre_cnt.append(pre_cnt[-1] + p)\n",
    "        suf_cnt.append(suf_cnt[-1] + s)\n",
    "        pre.append(pre[-1] + pre_cnt[-1])\n",
    "        suf.append(suf[-1] + suf_cnt[-1])\n",
    "\n",
    "    for i in range(N):\n",
    "        r[i] = pre[i] + suf[-i - 1]\n",
    "    \n",
    "    return r"
   ]
  },
  {
   "cell_type": "code",
   "execution_count": 16,
   "metadata": {},
   "outputs": [
    {
     "data": {
      "text/plain": [
       "[11, 8, 5, 4, 3, 4]"
      ]
     },
     "execution_count": 16,
     "metadata": {},
     "output_type": "execute_result"
    }
   ],
   "source": [
    "# '[11,8,5,4,3,4]'\n",
    "minOperations(\"001011\")"
   ]
  },
  {
   "cell_type": "code",
   "execution_count": 17,
   "metadata": {},
   "outputs": [],
   "source": [
    "def minimizeXor(num1: int, num2: int) -> int:\n",
    "    b1, b2 = list(bin(num1)[2:]), list(bin(num2)[2:])\n",
    "    N1, N2 = b1.count('1'), b2.count('1')\n",
    "    i = -1\n",
    "\n",
    "    while N1 > N2: # Take away from N1 until equal to N2\n",
    "        if b1[i] == '1':\n",
    "            N1 -= 1\n",
    "            b1[i] = '0'\n",
    "        i -= 1\n",
    "\n",
    "    while N2 > N1:\n",
    "        if abs(i) == len(b1): # If at end of digit, add all 1s and break\n",
    "            b1 = ['1'] * (N2 - N1) + b1\n",
    "            N1 = N2\n",
    "            break\n",
    "\n",
    "        c = b1[i]\n",
    "        if c == '0':\n",
    "            N1 += 1\n",
    "            b1[i] = '1'\n",
    "        i -= 1\n",
    "    \n",
    "    \n",
    "    return int(''.join(b1), 2)"
   ]
  },
  {
   "cell_type": "code",
   "execution_count": 18,
   "metadata": {},
   "outputs": [
    {
     "data": {
      "text/plain": [
       "3"
      ]
     },
     "execution_count": 18,
     "metadata": {},
     "output_type": "execute_result"
    }
   ],
   "source": [
    "minimizeXor(3, 5) # 24"
   ]
  },
  {
   "cell_type": "code",
   "execution_count": 19,
   "metadata": {},
   "outputs": [],
   "source": [
    "def xorAllNums(nums1: list[int], nums2: list[int]) -> int:\n",
    "    r, N1, N2 = 0, len(nums1), len(nums2)\n",
    "    if N2 % 2:\n",
    "        while nums1:\n",
    "            r = r ^ nums1.pop(0)\n",
    "    if N1 % 2:\n",
    "        while nums2:\n",
    "            r = r ^ nums2.pop(0)\n",
    "    return r"
   ]
  },
  {
   "cell_type": "code",
   "execution_count": 20,
   "metadata": {},
   "outputs": [
    {
     "data": {
      "text/plain": [
       "13"
      ]
     },
     "execution_count": 20,
     "metadata": {},
     "output_type": "execute_result"
    }
   ],
   "source": [
    "xorAllNums([2,1,3], [10,2,5,0])"
   ]
  },
  {
   "cell_type": "code",
   "execution_count": 21,
   "metadata": {},
   "outputs": [],
   "source": [
    "def gridGame(grid: list[list[int]]) -> int:\n",
    "    N, r1, r2 = len(grid[0]), grid[0], grid[1]\n",
    "    f, b = [r1[0]] + [0] * (N - 1), [r2[-1]] + [0] * (N - 1)\n",
    "\n",
    "    # Robot 1 Prefix/Suffix Sum\n",
    "    for i in range(1, N):\n",
    "        f[i] = f[i - 1] + r1[i]\n",
    "        b[i] = b[i - 1] + r2[-i - 1]\n",
    "    b = b[::-1]\n",
    "\n",
    "    # Find best reward and index for first robot\n",
    "    rb, ib = float('-inf'), 0\n",
    "    for i in range(N):\n",
    "        c = f[i] + b[i]\n",
    "        if c > rb:\n",
    "            rb, ib = c, i\n",
    "    \n",
    "    # Adjust prefix and suffix sum with path of first robot\n",
    "    rb_f, rb_b = f[ib], b[ib]\n",
    "    for i in range(N):\n",
    "\n",
    "        if i <= ib:\n",
    "            f[i] = 0\n",
    "            b[i] -= rb_b\n",
    "        else:\n",
    "            f[i] -= rb_f\n",
    "            b[i] = 0\n",
    "    \n",
    "    # Find best reward for second rebot\n",
    "    rb2 = float('-inf')\n",
    "    for i in range(N):\n",
    "        c = f[i] + b[i]\n",
    "        if c > rb2:\n",
    "            rb2 = c\n",
    "\n",
    "    return rb2"
   ]
  },
  {
   "cell_type": "code",
   "execution_count": 55,
   "metadata": {},
   "outputs": [],
   "source": [
    "def gridGame(grid: list[list[int]]) -> int:\n",
    "    N, r1, r2 = len(grid[0]), grid[0], grid[1]\n",
    "    suf, pre = [r1[-1]] + [0] * (N - 1), [r2[0]] + [0] * (N - 1)\n",
    "\n",
    "    # Prefix & Suffix Sum\n",
    "    for i in range(1, N):\n",
    "        suf[i] = suf[i - 1] + r1[-i - 1]\n",
    "        pre[i] = pre[i - 1] + r2[i]\n",
    "    suf = suf[::-1]\n",
    "\n",
    "    r = float('inf')\n",
    "    for i in range(N):\n",
    "        s = 0 if i >= N - 1 else suf[i + 1]\n",
    "        p = 0 if i < 1 else pre[i - 1]\n",
    "        r = min([r, max([s, p])])\n",
    "\n",
    "    return r\n",
    "    \n"
   ]
  },
  {
   "cell_type": "code",
   "execution_count": null,
   "metadata": {},
   "outputs": [],
   "source": [
    "from itertools import pairwise\n",
    "def highestPeak(isWater: list[list[int]]) -> list[list[int]]:\n",
    "    M, N = len(isWater), len(isWater[0])\n",
    "    q, grid = [], [[-1] * N for _ in range(M)]\n",
    "\n",
    "    # Add water to grid and queue\n",
    "    for i in range(M):\n",
    "        for j in range(N):\n",
    "            if isWater[i][j]:\n",
    "                grid[i][j] = 0\n",
    "                q.append([i, j])\n",
    "    \n",
    "    # BFS on grid\n",
    "    while q:\n",
    "        i, j = q.pop(0)\n",
    "        for a, b in pairwise((-1, 0, 1, 0, -1)):\n",
    "            x, y = i + a, j + b\n",
    "            if (0 <= x < M) and (0 <= y < N) and (grid[x][y] == -1):\n",
    "                grid[x][y] = grid[i][j] + 1\n",
    "                q.append([x, y])\n",
    "    \n",
    "    return grid\n",
    "\n"
   ]
  },
  {
   "cell_type": "code",
   "execution_count": null,
   "metadata": {},
   "outputs": [],
   "source": [
    "for a, b in pairwise((-1, 0, 1, 0, -1)):"
   ]
  }
 ],
 "metadata": {
  "kernelspec": {
   "display_name": ".venv",
   "language": "python",
   "name": "python3"
  },
  "language_info": {
   "codemirror_mode": {
    "name": "ipython",
    "version": 3
   },
   "file_extension": ".py",
   "mimetype": "text/x-python",
   "name": "python",
   "nbconvert_exporter": "python",
   "pygments_lexer": "ipython3",
   "version": "3.11.9"
  }
 },
 "nbformat": 4,
 "nbformat_minor": 2
}
