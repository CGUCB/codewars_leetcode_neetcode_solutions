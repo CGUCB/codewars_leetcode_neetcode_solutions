{
 "cells": [
  {
   "cell_type": "markdown",
   "metadata": {},
   "source": [
    "### Counting Change Combinations\n",
    "##### Codewars | 4 kyu | 541af676b589989aed0009e7\n",
    "\n",
    "Write a function that counts how many different ways you can make change for an amount of money, given an array of coin denominations. For example, there are 3 ways to give change for 4 if you have coins with denomination 1 and 2: \n",
    "\n",
    "1. 1+1+1+1\n",
    "2. 1+1+2\n",
    "3. 2+2\n",
    "\n",
    "The order of the coins does not matter (i.e. 1+2 == 2+1) and you can assume you have infinite amounts of each coin. Input is the amount to change and an array of unique denominations for the coins."
   ]
  },
  {
   "cell_type": "markdown",
   "metadata": {},
   "source": [
    "##### Brainstorming\n",
    "\n",
    "- Looks like a dynamic programming problem -> memoize results as we count back from the \"total\" amount\n",
    "- Since order doesn't matter if we calculate change for a number N, when we do recursion, we can only allow elements to be subtracted if they are less than or equal to the last term subtracted. i.e. we can only go one way "
   ]
  },
  {
   "cell_type": "code",
   "execution_count": 50,
   "metadata": {},
   "outputs": [],
   "source": [
    "def count_change(money, coins):\n",
    "\n",
    "    # Sort so checking and recursive calls easier\n",
    "    coins.sort(reverse = True)\n",
    "\n",
    "    # Stores Memoized Results\n",
    "    mem = {}\n",
    "\n",
    "    # Helper function because only needs one sort call\n",
    "    def count_change_helper(money, coins):\n",
    "\n",
    "        # Base cases\n",
    "        if money == 0:\n",
    "            return 1\n",
    "\n",
    "        if (money < 0) or (money < coins[-1]) or (len(coins) == 0):\n",
    "            return 0\n",
    "        \n",
    "        # See if already exists within storage\n",
    "        k = mem.get((money, len(coins)), 0)\n",
    "        if k > 0: return k\n",
    "\n",
    "        # Recursive Logic\n",
    "        total = 0\n",
    "        for i in range(len(coins)):\n",
    "\n",
    "            c = count_change_helper(money - coins[i], coins[i:])\n",
    "            total += c\n",
    "        \n",
    "        mem[(money, len(coins))] = total\n",
    "        return total\n",
    "    \n",
    "    return count_change_helper(money, coins)"
   ]
  }
 ],
 "metadata": {
  "kernelspec": {
   "display_name": ".venv",
   "language": "python",
   "name": "python3"
  },
  "language_info": {
   "codemirror_mode": {
    "name": "ipython",
    "version": 3
   },
   "file_extension": ".py",
   "mimetype": "text/x-python",
   "name": "python",
   "nbconvert_exporter": "python",
   "pygments_lexer": "ipython3",
   "version": "3.11.9"
  }
 },
 "nbformat": 4,
 "nbformat_minor": 2
}
