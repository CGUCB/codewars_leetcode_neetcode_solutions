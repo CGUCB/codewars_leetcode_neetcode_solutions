{
 "cells": [
  {
   "cell_type": "markdown",
   "metadata": {},
   "source": [
    "#### Top K Frequent Elements\n",
    "Neetcode 150 | Medium | Arrays & Hashing \n",
    "\n",
    "Given an integer array nums and an integer k, return the k most frequent elements within the array. The test cases are generated such that the answer is always unique. You may return the output in any order.\n",
    "\n",
    "You should aim for a solution with O(n) time and O(n) space, where n is the size of the input array. "
   ]
  },
  {
   "cell_type": "code",
   "execution_count": null,
   "metadata": {},
   "outputs": [],
   "source": [
    "from collections import defaultdict\n",
    "class Solution:\n",
    "    def topKFrequent(self, nums: list[int], k: int) -> list[int]:\n",
    "\n",
    "        d, r = defaultdict(lambda : 0), []\n",
    "        f = [[] for _ in range(len(nums))]\n",
    "\n",
    "        for n in nums: \n",
    "            d[n] += 1\n",
    "\n",
    "        for p, v in d.items():\n",
    "            f[v - 1].append(p)\n",
    "\n",
    "        for l in f[::-1]:\n",
    "            r.extend(l)\n",
    "            if len(r) >= k:\n",
    "                return r"
   ]
  }
 ],
 "metadata": {
  "kernelspec": {
   "display_name": ".venv",
   "language": "python",
   "name": "python3"
  },
  "language_info": {
   "name": "python",
   "version": "3.11.9"
  }
 },
 "nbformat": 4,
 "nbformat_minor": 2
}
