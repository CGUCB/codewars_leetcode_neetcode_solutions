{
 "cells": [
  {
   "cell_type": "markdown",
   "metadata": {},
   "source": [
    "### 4 By 4 Skyscrapers\n",
    "##### Codewars | 4 kyu | 5671d975d81d6c1c87000022\n",
    "\n",
    "In a grid of 4x4 squares you want to place a skyscraper in each square with only some clues.\n",
    "\n",
    "1) The height of the skyscrapers is between 1 and 4 inclusive\n",
    "2) No two skyscrapers in a row or column may have the same number of floors (i.e. Sodoku Constraint)\n",
    "3) A clue is the number of skyscrapers that you can see in a row or column from the outside\n",
    "4) Higher skyscrapers block the view of lower skyscrapers located behind them\n",
    "\n",
    "Clues wrap each sides of the 4x4 grid from left-to-right and top-to-bottom. We start at the top side, then right side, bottom, and lastly left side. There are 16 total spots for clues. An entry of ```0``` indicates no clue provided. \n",
    "\n",
    "**Input:** A list of clues 16 integers in length\n",
    "\n",
    "**Output:** A 2D Python list detailing the skyscraper heights for the 4x4 grid\n",
    "\n",
    "**Approach:** Rainbow tables for combinations (eliminates unecessary checks and recursive calls) + DFS backtracking"
   ]
  },
  {
   "cell_type": "code",
   "execution_count": null,
   "metadata": {},
   "outputs": [
    {
     "data": {
      "text/plain": [
       "[(1, 2, 3, 4),\n",
       " (1, 2, 4, 3),\n",
       " (1, 3, 2, 4),\n",
       " (1, 3, 4, 2),\n",
       " (1, 4, 2, 3),\n",
       " (1, 4, 3, 2),\n",
       " (2, 1, 3, 4),\n",
       " (2, 1, 4, 3),\n",
       " (2, 3, 1, 4),\n",
       " (2, 3, 4, 1),\n",
       " (2, 4, 1, 3),\n",
       " (2, 4, 3, 1),\n",
       " (3, 1, 2, 4),\n",
       " (3, 1, 4, 2),\n",
       " (3, 2, 1, 4),\n",
       " (3, 2, 4, 1),\n",
       " (3, 4, 1, 2),\n",
       " (3, 4, 2, 1),\n",
       " (4, 1, 2, 3),\n",
       " (4, 1, 3, 2),\n",
       " (4, 2, 1, 3),\n",
       " (4, 2, 3, 1),\n",
       " (4, 3, 1, 2),\n",
       " (4, 3, 2, 1)]"
      ]
     },
     "execution_count": 6,
     "metadata": {},
     "output_type": "execute_result"
    }
   ],
   "source": [
    "from itertools import permutations\n",
    "\n",
    "# All permutations of {1, 2, 3, 4}\n",
    "combo = sorted(list(permutations([1, 2, 3, 4])))\n",
    "\n",
    "# Create a dictionary that has the input as the clue (current, opposite)\n",
    "# and will give a list of indexes of permutations in combos that are \n",
    "# potential solutions\n",
    "table = {}"
   ]
  },
  {
   "cell_type": "code",
   "execution_count": null,
   "metadata": {},
   "outputs": [],
   "source": []
  }
 ],
 "metadata": {
  "kernelspec": {
   "display_name": ".venv",
   "language": "python",
   "name": "python3"
  },
  "language_info": {
   "codemirror_mode": {
    "name": "ipython",
    "version": 3
   },
   "file_extension": ".py",
   "mimetype": "text/x-python",
   "name": "python",
   "nbconvert_exporter": "python",
   "pygments_lexer": "ipython3",
   "version": "3.11.9"
  }
 },
 "nbformat": 4,
 "nbformat_minor": 2
}
