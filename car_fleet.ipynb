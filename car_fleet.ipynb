{
 "cells": [
  {
   "cell_type": "markdown",
   "metadata": {},
   "source": [
    "#### Car Fleet\n",
    "Neetcode 150 | Medium | Stack\n",
    "\n",
    "There are n cars traveling to the same destination on a one-lane highway.\n",
    "\n",
    "You are given two arrays of integers position and speed, both of length n.\n",
    "\n",
    "- position[i] is the position of the ith car (in miles)\n",
    "- speed[i] is the speed of the ith car (in miles per hour)\n",
    "\n",
    "The destination is at position target miles.\n",
    "\n",
    "A car can not pass another car ahead of it. It can only catch up to another car and then drive at the same speed as the car ahead of it.\n",
    "\n",
    "A car fleet is a non-empty set of cars driving at the same position and same speed. A single car is also considered a car fleet.\n",
    "\n",
    "If a car catches up to a car fleet the moment the fleet reaches the destination, then the car is considered to be part of the fleet.\n",
    "\n",
    "Return the number of different car fleets that will arrive at the destination."
   ]
  },
  {
   "cell_type": "code",
   "execution_count": 15,
   "metadata": {},
   "outputs": [],
   "source": [
    "def carFleet(target: int, position: list[int], speed: list[int]) -> int:\n",
    "\n",
    "    c = sorted(zip(position, speed), key = lambda x: x[0], reverse = True)\n",
    "    t = [(target - x[0]) / x[1] for x in c]\n",
    "    fleets, curr = 1, t[0]\n",
    "\n",
    "    for r in t[1:]:\n",
    "        if r > curr:\n",
    "            fleets += 1\n",
    "            curr = r\n",
    "\n",
    "    return fleets"
   ]
  }
 ],
 "metadata": {
  "kernelspec": {
   "display_name": ".venv",
   "language": "python",
   "name": "python3"
  },
  "language_info": {
   "codemirror_mode": {
    "name": "ipython",
    "version": 3
   },
   "file_extension": ".py",
   "mimetype": "text/x-python",
   "name": "python",
   "nbconvert_exporter": "python",
   "pygments_lexer": "ipython3",
   "version": "3.11.9"
  }
 },
 "nbformat": 4,
 "nbformat_minor": 2
}
