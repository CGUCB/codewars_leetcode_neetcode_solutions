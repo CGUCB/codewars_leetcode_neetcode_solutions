{
 "cells": [
  {
   "cell_type": "markdown",
   "metadata": {},
   "source": [
    "### Valid Sodoku with Size 'NxN'\n",
    "##### Codewars | 4 kyu | 540afbe2dc9f615d5e000425\n",
    "\n",
    "Given a Sudoku data structure with size NxN, N > 0 and √N == integer, write a method to validate if it has been filled out correctly. The data structure is a 2D Python List."
   ]
  },
  {
   "cell_type": "markdown",
   "metadata": {},
   "source": [
    "##### Brainstorming\n",
    "\n",
    "Convert to a numpy array and multiply by both a column and row of 1s; if each number on resulting matricies are not equal to the sum of 1 to N incusive, then it is invalid"
   ]
  },
  {
   "cell_type": "code",
   "execution_count": 237,
   "metadata": {},
   "outputs": [],
   "source": [
    "import numpy as np\n",
    "from scipy import signal\n",
    "\n",
    "class Sudoku(object):\n",
    "    def __init__(self, data):\n",
    "        super().__init__()\n",
    "\n",
    "        # Use object to allow for non-homogenous arrays\n",
    "        self.data = data\n",
    "\n",
    "    def is_valid(self):\n",
    "\n",
    "        # if non-homogenous, then return false\n",
    "        le = len(self.data)\n",
    "        for rw in self.data:\n",
    "            if len(rw) != le:\n",
    "                return False\n",
    "\n",
    "        # if not everything is an integer, return false\n",
    "        if not all([all([type(e) == int for e in row]) for row in self.data]):\n",
    "            return False\n",
    "\n",
    "        #Converting to numpy array\n",
    "        d = np.array(self.data)\n",
    "\n",
    "        # dimensions and cumulative sum to compare against\n",
    "        sq = int(np.sqrt(le))\n",
    "        total = (le * (le + 1)) / 2\n",
    "        truth = np.array([total] * le)\n",
    "\n",
    "        # Getting sums of each row and column\n",
    "        rrows = d @ np.ones(le).T\n",
    "        rcols = d.T @ np.ones(le).T\n",
    "        rsq = signal.convolve2d(\n",
    "            d, \n",
    "            np.ones((sq, sq))[::-1, ::-1],  \n",
    "            mode = 'valid',\n",
    "            boundary = 'symm'\n",
    "        )[::sq, ::sq].flatten()\n",
    "\n",
    "        # Final logic to see if hypothetical truth matches reality\n",
    "        if (rrows == truth).all() and (rcols == truth).all() and (rsq == truth).all():\n",
    "            return True\n",
    "        \n",
    "        return False"
   ]
  },
  {
   "cell_type": "code",
   "execution_count": 238,
   "metadata": {},
   "outputs": [],
   "source": [
    "goodSudoku1 = Sudoku([\n",
    "[7,8,4, 1,5,9, 3,2,6],\n",
    "[5,3,9, 6,7,2, 8,4,1],\n",
    "[6,1,2, 4,3,8, 7,5,9],\n",
    "\n",
    "[9,2,8, 7,1,5, 4,6,3],\n",
    "[3,5,7, 8,4,6, 1,9,2],\n",
    "[4,6,1, 9,2,3, 5,8,7],\n",
    "\n",
    "[8,7,6, 3,9,4, 2,1,5],\n",
    "[2,4,3, 5,6,1, 9,7,8],\n",
    "[1,9,5, 2,8,7, 6,3,4]\n",
    "])\n",
    "\n",
    "goodSudoku2 = Sudoku([\n",
    "[1,4, 2,3],\n",
    "[3,2, 4,1],\n",
    "\n",
    "[4,1, 3,2],\n",
    "[2,3, 1,4]\n",
    "])\n",
    "\n",
    "# Invalid Sudoku\n",
    "badSudoku1 = Sudoku([\n",
    "[0,2,3, 4,5,6, 7,8,9],\n",
    "[1,2,3, 4,5,6, 7,8,9],\n",
    "[1,2,3, 4,5,6, 7,8,9],\n",
    "\n",
    "[1,2,3, 4,5,6, 7,8,9],\n",
    "[1,2,3, 4,5,6, 7,8,9],\n",
    "[1,2,3, 4,5,6, 7,8,9],\n",
    "\n",
    "[1,2,3, 4,5,6, 7,8,9],\n",
    "[1,2,3, 4,5,6, 7,8,9],\n",
    "[1,2,3, 4,5,6, 7,8,9]\n",
    "])\n",
    "\n",
    "badSudoku2 = Sudoku([\n",
    "[1,2,3,4,5],\n",
    "[1,2,3,4],\n",
    "[1,2,3,4],  \n",
    "[1]\n",
    "])\n",
    "\n",
    "badSudoku3 = Sudoku([['']])\n",
    "\n",
    "badSudoku4 = Sudoku([\n",
    "list([1, 4, 4, 3, 'a']),\n",
    "list([3, 2, 4, 1]),\n",
    "list([4, 1, 3, 3]),\n",
    "list([2, 0, 1, 4]),\n",
    "list(['', False, None, '4'])\n",
    "])"
   ]
  },
  {
   "cell_type": "code",
   "execution_count": 248,
   "metadata": {},
   "outputs": [
    {
     "data": {
      "text/plain": [
       "False"
      ]
     },
     "execution_count": 248,
     "metadata": {},
     "output_type": "execute_result"
    }
   ],
   "source": [
    "badSudoku4.is_valid()"
   ]
  }
 ],
 "metadata": {
  "kernelspec": {
   "display_name": ".venv",
   "language": "python",
   "name": "python3"
  },
  "language_info": {
   "codemirror_mode": {
    "name": "ipython",
    "version": 3
   },
   "file_extension": ".py",
   "mimetype": "text/x-python",
   "name": "python",
   "nbconvert_exporter": "python",
   "pygments_lexer": "ipython3",
   "version": "3.11.9"
  }
 },
 "nbformat": 4,
 "nbformat_minor": 2
}
