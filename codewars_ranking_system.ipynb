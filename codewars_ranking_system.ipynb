{
 "cells": [
  {
   "cell_type": "markdown",
   "metadata": {},
   "source": [
    "### Codewars Style Ranking System\n",
    "##### Codewars | 4 kyu | 51fda2d95d6efda45e00004e\n",
    "\n",
    "Write a class called User that is used to calculate the amount that a user will progress through a ranking system similar to the one Codewars uses. \n",
    "\n",
    "**User-Specific:**\n",
    "- A user starts at rank -8 and can progres to rank 8 → (-8,-7,-6,-5,-4,-3,-2,-1,1,2,3,4,5,6,7,8)\n",
    "- There is no zero rank; next rank after -1 → 1\n",
    "- User completes activites; activites have ranks\n",
    "- Each time the user completes a ranked activity the users rank progress is updated based off of the activity's rank\n",
    "- The progress earned from the completed activity is relative to what the user's current rank is compared to the rank of the activity\n",
    "- A user's rank progress starts off at zero, each time the progress reaches 100 the user's rank is upgraded to the next level\n",
    "- Any remaining progress earned while in the previous rank will be applied towards the next rank's progress (we don't throw any progress away). The exception is if there is no other rank left to progress towards (Once you reach rank 8 there is no more progression). \n",
    "- A user cannot progress beyond rank 8. \n",
    "\n",
    "**Progress-Specific**\n",
    "- Completing an activity that is ranked the same as that of the user's will be worth 3 points\n",
    "- Completing an activity that is ranked one ranking lower than the user's will be worth 1 point\n",
    "- Any activities completed that are ranking 2 levels or more lower than the user's ranking will be ignored\n",
    "- Completing an activity ranked higher than the current user's rank will accelerate the rank progression. The greater the difference between rankings the more the progression will be increased. The formula is '10 * d * d' where d equals the difference in ranking between the activity and the user."
   ]
  },
  {
   "cell_type": "code",
   "execution_count": 20,
   "metadata": {},
   "outputs": [],
   "source": [
    "class User:\n",
    "\n",
    "    rl = [\n",
    "        -8, -7, -6, -5, -4, -3, -2, -1,\n",
    "        1, 2, 3, 4, 5, 6, 7, 8 \n",
    "    ]\n",
    "\n",
    "    def __init__(self, rank = -8, progress = 0):\n",
    "        self.rank = rank\n",
    "        self.progress = progress\n",
    "\n",
    "    def _promote(self):\n",
    "        rl_index = self.rl.index(self.rank)\n",
    "        self.rank = self.rl[rl_index + 1]\n",
    "    \n",
    "    def _get_progress(self, rnk):\n",
    "        d = self.rl.index(self.rank) - self.rl.index(rnk)\n",
    "        if d >= 2: return 0\n",
    "        elif d == 1: return 1\n",
    "        elif d == 0: return 3\n",
    "        else: return (d ** 2) * 10\n",
    "    \n",
    "    def inc_progress(self, rnk):\n",
    "        assert rnk in self.rl\n",
    "        if self.rank < 8:\n",
    "            self.progress += self._get_progress(rnk)\n",
    "            while self.progress >= 100:\n",
    "                self._promote()\n",
    "                self.progress -= 100\n",
    "                if self.rank == 8:\n",
    "                    self.progress = 0\n",
    "                    break"
   ]
  }
 ],
 "metadata": {
  "kernelspec": {
   "display_name": ".venv",
   "language": "python",
   "name": "python3"
  },
  "language_info": {
   "codemirror_mode": {
    "name": "ipython",
    "version": 3
   },
   "file_extension": ".py",
   "mimetype": "text/x-python",
   "name": "python",
   "nbconvert_exporter": "python",
   "pygments_lexer": "ipython3",
   "version": "3.11.9"
  }
 },
 "nbformat": 4,
 "nbformat_minor": 2
}
