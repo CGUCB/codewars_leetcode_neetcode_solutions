{
 "cells": [
  {
   "cell_type": "markdown",
   "metadata": {},
   "source": [
    "#### Trapping Rain Water\n",
    "Neetcode 150 | Hard | Two Pointers\n",
    "\n",
    "You are given an array non-negative integers height which represent an elevation map. Each value height[i] represents the height of a bar, which has a width of 1.\n",
    "\n",
    "Return the maximum area of water that can be trapped between the bars."
   ]
  },
  {
   "cell_type": "code",
   "execution_count": 4,
   "metadata": {},
   "outputs": [],
   "source": [
    "def trap(height: list[int]) -> int:\n",
    "    t = 0\n",
    "\n",
    "    # Prefix Max\n",
    "    p = [height[0]]\n",
    "    for n in height[1:]:\n",
    "        p.append(max(n, p[-1]))\n",
    "    \n",
    "    # Suffix Max\n",
    "    s = [height[-1]]\n",
    "    for n in height[-1::-1]:\n",
    "        s.append(max(n, s[-1]))\n",
    "    s = s[::-1]\n",
    "    \n",
    "    # Calculating rain per cell\n",
    "    for i in range(len(height)):\n",
    "        t += min(p[i], s[i]) - height[i]\n",
    "    \n",
    "    return t"
   ]
  }
 ],
 "metadata": {
  "kernelspec": {
   "display_name": ".venv",
   "language": "python",
   "name": "python3"
  },
  "language_info": {
   "codemirror_mode": {
    "name": "ipython",
    "version": 3
   },
   "file_extension": ".py",
   "mimetype": "text/x-python",
   "name": "python",
   "nbconvert_exporter": "python",
   "pygments_lexer": "ipython3",
   "version": "3.11.9"
  }
 },
 "nbformat": 4,
 "nbformat_minor": 2
}
