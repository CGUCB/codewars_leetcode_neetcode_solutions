{
 "cells": [
  {
   "cell_type": "markdown",
   "metadata": {},
   "source": [
    "#### Longest Consecutive Sequence\n",
    "Neetcode 150 | Medium | Arrays & Hashing\n",
    "\n",
    "Given an array of integers nums, return the length of the longest consecutive sequence of elements that can be formed.\n",
    "\n",
    "A consecutive sequence is a sequence of elements in which each element is exactly 1 greater than the previous element. The elements do not have to be consecutive in the original array.\n",
    "\n",
    "You must write an algorithm that runs in O(n) time."
   ]
  },
  {
   "cell_type": "code",
   "execution_count": 4,
   "metadata": {},
   "outputs": [],
   "source": [
    "def longestConsecutive(nums: list[int]) -> int:\n",
    "    nums, st, m = set(nums), [], 0\n",
    "\n",
    "    # Find increasing sequence starts\n",
    "    for n in nums:\n",
    "        if (n-1) not in nums: \n",
    "            st.append(n)\n",
    "    \n",
    "    # Find complete sequences\n",
    "    for n in st:\n",
    "        l = 1\n",
    "        while (n + l) in nums:\n",
    "            l += 1\n",
    "        m = max(m, l)\n",
    "    \n",
    "    return m"
   ]
  }
 ],
 "metadata": {
  "kernelspec": {
   "display_name": ".venv",
   "language": "python",
   "name": "python3"
  },
  "language_info": {
   "codemirror_mode": {
    "name": "ipython",
    "version": 3
   },
   "file_extension": ".py",
   "mimetype": "text/x-python",
   "name": "python",
   "nbconvert_exporter": "python",
   "pygments_lexer": "ipython3",
   "version": "3.11.9"
  }
 },
 "nbformat": 4,
 "nbformat_minor": 2
}
