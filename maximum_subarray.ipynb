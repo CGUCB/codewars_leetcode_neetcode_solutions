{
 "cells": [
  {
   "cell_type": "markdown",
   "metadata": {},
   "source": [
    "#### Maximum Subarray\n",
    "Neetcode 150 | Medium | Arrays & Hashing\n",
    "\n",
    "Given an array of integers nums, find the subarray with the largest sum and return the sum.\n",
    "\n",
    "A subarray is a contiguous non-empty sequence of elements within an array."
   ]
  },
  {
   "cell_type": "code",
   "execution_count": 11,
   "metadata": {},
   "outputs": [],
   "source": [
    "def maxSubArray(self, nums: list[int]) -> int:\n",
    "    currSum = nums[0]\n",
    "    maxSum = nums[0]\n",
    "\n",
    "    for n in nums[1:]:\n",
    "        currSum = max(currSum, 0)\n",
    "        currSum += n\n",
    "        maxSum = max(maxSum, currSum)\n",
    "    \n",
    "    return maxSum"
   ]
  }
 ],
 "metadata": {
  "kernelspec": {
   "display_name": ".venv",
   "language": "python",
   "name": "python3"
  },
  "language_info": {
   "codemirror_mode": {
    "name": "ipython",
    "version": 3
   },
   "file_extension": ".py",
   "mimetype": "text/x-python",
   "name": "python",
   "nbconvert_exporter": "python",
   "pygments_lexer": "ipython3",
   "version": "3.11.9"
  }
 },
 "nbformat": 4,
 "nbformat_minor": 2
}
