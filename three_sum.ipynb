{
 "cells": [
  {
   "cell_type": "markdown",
   "metadata": {},
   "source": [
    "#### Three Sum\n",
    "Neetcode 150 | Medium | Pointers\n",
    "\n",
    "Given an integer array nums, return all the triplets [nums[i], nums[j], nums[k]] where nums[i] + nums[j] + nums[k] == 0, and the indices i, j and k are all distinct.\n",
    "\n",
    "The output should not contain any duplicate triplets. You may return the output and the triplets in any order."
   ]
  },
  {
   "cell_type": "code",
   "execution_count": 4,
   "metadata": {},
   "outputs": [],
   "source": [
    "def threeSum(nums: list[int]) -> list[list[int]]:\n",
    "    nums, r = sorted(nums), []\n",
    "    for i in range(len(nums)):\n",
    "        if (i > 0) and (nums[i] == nums[i - 1]): \n",
    "            continue\n",
    "        j, k, t = i + 1, len(nums) - 1, -nums[i]\n",
    "        while j < k:\n",
    "            c = nums[j] + nums[k]\n",
    "            if c < t: j += 1\n",
    "            if c > t: k -= 1\n",
    "            if c == t: \n",
    "                r.append([nums[i], nums[j], nums[k]])\n",
    "                j += 1\n",
    "                while (nums[j] == nums[j - 1]) and (j < k):\n",
    "                    j += 1\n",
    "    return r\n"
   ]
  },
  {
   "cell_type": "code",
   "execution_count": 5,
   "metadata": {},
   "outputs": [
    {
     "data": {
      "text/plain": [
       "[[-1, -1, 2], [-1, 0, 1]]"
      ]
     },
     "execution_count": 5,
     "metadata": {},
     "output_type": "execute_result"
    }
   ],
   "source": [
    "threeSum([-1,0,1,2,-1,-4])"
   ]
  }
 ],
 "metadata": {
  "kernelspec": {
   "display_name": ".venv",
   "language": "python",
   "name": "python3"
  },
  "language_info": {
   "codemirror_mode": {
    "name": "ipython",
    "version": 3
   },
   "file_extension": ".py",
   "mimetype": "text/x-python",
   "name": "python",
   "nbconvert_exporter": "python",
   "pygments_lexer": "ipython3",
   "version": "3.11.9"
  }
 },
 "nbformat": 4,
 "nbformat_minor": 2
}
