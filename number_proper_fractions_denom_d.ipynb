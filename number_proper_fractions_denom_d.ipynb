{
 "cells": [
  {
   "cell_type": "markdown",
   "metadata": {},
   "source": [
    "### Number of Proper Fractions with Denominator d\n",
    "##### Codewars | 4 kyu | 55b7bb74a0256d4467000070\n",
    "\n",
    "If **n** is the numerator and **d** is the denominator of a fraction, that fraction is deined as a reduced proper fraction iff **GCD(n, d) = 1**.\n",
    "\n",
    "Given a number **d**, how many proper fractions can be built using **d** as a denominator. A proper fraction is one where the numerator **n** is less than the denominator **d**.\n",
    "\n",
    "---\n",
    "\n",
    "1. Get al the prime factors of the number\n",
    "2. Create a dict or list as long as d\n",
    "3. Repeatedly divide the starting number via tree recursion and add all numbers that d reduces to\n",
    "4. Count the ways and return this number"
   ]
  },
  {
   "cell_type": "code",
   "execution_count": 26,
   "metadata": {},
   "outputs": [],
   "source": [
    "import math\n",
    "def prime_yield():\n",
    "    yield 2\n",
    "    a = [3, 5, 11, 7, 31, 37, 41, 43]\n",
    "    d = {\n",
    "        0: 4, 1: 4, \n",
    "        2: 6, 3: 6, \n",
    "        4: 30, 5: 30, 6: 30, 7: 30\n",
    "    }\n",
    "    while True:\n",
    "        m = min(a)\n",
    "        yield m\n",
    "        m_ind = a.index(m)\n",
    "        tmp = a[m_ind] + d[m_ind]\n",
    "        while tmp in a:\n",
    "            tmp += d[m_ind]\n",
    "        a[m_ind] = tmp\n",
    "    \n",
    "def factorize(n):\n",
    "    pyf = prime_yield()\n",
    "    c, r = next(pyf), []\n",
    "    while c * c <= n:\n",
    "        if n % c == 0:\n",
    "            while n % c == 0:\n",
    "                n = n // c\n",
    "            r.append(c)\n",
    "        c = next(pyf)\n",
    "    if n >= c:\n",
    "        r.append(n)\n",
    "    return list(set(r))\n",
    "\n",
    "def proper_fractions_legacy(n):\n",
    "    if n == 1: return 0\n",
    "    f, t = factorize(n), float(n)\n",
    "    for i in f:\n",
    "        t *= (1.0 - (1.0 / float(i)))\n",
    "    return int(t)\n",
    "#755 ms\n"
   ]
  },
  {
   "cell_type": "code",
   "execution_count": 13,
   "metadata": {},
   "outputs": [],
   "source": [
    "def proper_fractions(n):\n",
    "    if n == 1: return 0\n",
    "    r, p = n, 2\n",
    "    while p * p <= n:\n",
    "        if n % p == 0:\n",
    "            while n % p == 0:\n",
    "                n = n // p\n",
    "            r *= (1.0 - (1.0 / float(p)))\n",
    "        p += 1\n",
    "    if n > 1:\n",
    "        r -= r // n\n",
    "    return int(r)\n",
    "# 620 ms"
   ]
  }
 ],
 "metadata": {
  "kernelspec": {
   "display_name": ".venv",
   "language": "python",
   "name": "python3"
  },
  "language_info": {
   "codemirror_mode": {
    "name": "ipython",
    "version": 3
   },
   "file_extension": ".py",
   "mimetype": "text/x-python",
   "name": "python",
   "nbconvert_exporter": "python",
   "pygments_lexer": "ipython3",
   "version": "3.11.9"
  }
 },
 "nbformat": 4,
 "nbformat_minor": 2
}
