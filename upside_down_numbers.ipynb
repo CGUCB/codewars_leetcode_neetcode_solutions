{
 "cells": [
  {
   "cell_type": "markdown",
   "metadata": {},
   "source": [
    "### Upside-Down Numbers - Challenge Edition\n",
    "##### Codewars | 3 kyu | 59f98052120be4abfa000304\n",
    "\n",
    "Your function receives two strings of positive digits -- these represent the lower and upper bounds. You must return the number of valid upside-down numbers within the range of the two inputs (inclusive). An upside-down number is an integer that appears the same when rotated 180 degrees (i.e. 0, 1, 8, 6 <-> 9). All inputs will be valid."
   ]
  },
  {
   "cell_type": "code",
   "execution_count": 70,
   "metadata": {},
   "outputs": [],
   "source": [
    "single_sgt = {\n",
    "    '0': '0', '1': '1', '2': '8', '3': '8', '4': '8', \n",
    "    '5': '8', '6': '8', '7': '8', '8': '8', '9': '0'\n",
    "    }\n",
    "\n",
    "pair_sgt = {\n",
    "    '0': ('0', '0'), '1': ('1', '1'),\n",
    "    '2': ('6', '9'), '3': ('6', '9'),\n",
    "    '4': ('6', '9'), '5': ('6', '9'),\n",
    "    '6': ('6', '9'), '7': ('8', '8'), \n",
    "    '8': ('8', '8'), '9': ('9', '6')\n",
    "    }\n",
    "\n",
    "def find_sgt(n):\n",
    "    '''\n",
    "    Find smallest upside-down number greater than or equal to 'n'\n",
    "    '''\n",
    "\n",
    "    # Edge case : no more incrementing steps in this power of 10, return max\n",
    "    l_ = len(n)\n",
    "    tp = '9' * (l_ // 2) + ('8' if l_ % 2 else '') + '6' * (l_ // 2)\n",
    "    if n > tp: '1' + '0' * (l_ - 1) + '1'\n",
    "\n",
    "    # Base cases : no recursive incrementing steps\n",
    "    if l_ == 1: return single_sgt[n]\n",
    "    if l_ == 2: return ''.join(pair_sgt[n[0]])\n",
    "\n",
    "    # Pointer declaration\n",
    "    l, r, m, s = 0, 0, len(n) // 2, ''\n",
    "\n",
    "    # If we have an odd number of digits\n",
    "    if l_ % 2:\n",
    "        s = single_sgt[n[m]]\n",
    "        l, r = m - 1, m + 1\n",
    "\n",
    "    # If we have an even number of digits\n",
    "    else: \n",
    "        l, r = m - 1, m\n",
    "    \n",
    "    # Iterate through mirrored pairs\n",
    "    while l >= 0:\n",
    "        c = pair_sgt[n[l]]\n",
    "        s = c[0] + s + c[1]\n",
    "        l -= 1\n",
    "        r += 1\n",
    "    \n",
    "    return s\n",
    "\n",
    "def find_end(n, bot = None, top = None):\n",
    "    ''' \n",
    "    Find the number of upside-down numbers from an input upside-down number until the\n",
    "    next 10s boundary (i.e. Input = 11 : all upside-down numbers from 11 -> 100)\n",
    "    \n",
    "    If 'top' is passed in then it is the upper boundary, not a power of 10\n",
    "    '''\n",
    "    pass\n",
    "\n",
    "def find_tens(n, prev = None):\n",
    "    '''\n",
    "    A count of upside-down numbers between 10^n and 10^(n+1)\n",
    "    \n",
    "    To reduce runtime, prev is included as an optional arguement which \n",
    "    details the result of the previous iteration (i.e. 10^(n-1) -> 10^n)\n",
    "    '''\n",
    "    pass\n",
    "\n",
    "def upsidedown(x, y):\n",
    "    pass"
   ]
  },
  {
   "cell_type": "code",
   "execution_count": null,
   "metadata": {},
   "outputs": [
    {
     "data": {
      "text/plain": [
       "'19061'"
      ]
     },
     "execution_count": 72,
     "metadata": {},
     "output_type": "execute_result"
    }
   ],
   "source": [
    "# TODO 1) Deal with 9s in middle 2) Deal with right side of number being decrease by replacement which causes whole number to be less than (if no callback to modify)\n",
    "# Might need a recurisve solution\n",
    "find_sgt('19991')"
   ]
  },
  {
   "cell_type": "code",
   "execution_count": 2,
   "metadata": {},
   "outputs": [
    {
     "name": "stdout",
     "output_type": "stream",
     "text": [
      "None False\n",
      "None False\n",
      "None False\n",
      "None False\n",
      "None False\n"
     ]
    }
   ],
   "source": [
    "print(upsidedown('0','10'), upsidedown('0','10') == 3)\n",
    "print(upsidedown('6','25'), upsidedown('6','25') == 2)\n",
    "print(upsidedown('10','100'), upsidedown('10','100') == 4)\n",
    "print(upsidedown('100','1000'), upsidedown('100','1000') == 12)\n",
    "print(upsidedown('100000','12345678900000000'), upsidedown('100000','12345678900000000') == 718650)"
   ]
  }
 ],
 "metadata": {
  "kernelspec": {
   "display_name": ".venv",
   "language": "python",
   "name": "python3"
  },
  "language_info": {
   "codemirror_mode": {
    "name": "ipython",
    "version": 3
   },
   "file_extension": ".py",
   "mimetype": "text/x-python",
   "name": "python",
   "nbconvert_exporter": "python",
   "pygments_lexer": "ipython3",
   "version": "3.11.9"
  }
 },
 "nbformat": 4,
 "nbformat_minor": 2
}
