{
 "cells": [
  {
   "cell_type": "markdown",
   "metadata": {},
   "source": [
    "#### Product of Array Except Self\n",
    "Neetcode 150 | Medium | Arrays & Hashing\n",
    "\n",
    "Given an integer array nums, return an array output where output[i] is the product of all the elements of nums except nums[i].\n",
    "\n",
    "Each product is guaranteed to fit in a 32-bit integer.\n",
    "\n",
    "Follow-up: Could you solve it in O(n) time without using the division operation?"
   ]
  },
  {
   "cell_type": "code",
   "execution_count": 4,
   "metadata": {},
   "outputs": [],
   "source": [
    "import itertools\n",
    "import operator\n",
    "\n",
    "def productExceptSelf(nums: list[int]) -> list[int]:\n",
    "    if len(nums) == 2: return nums[::-1]\n",
    "    r, p, s = [], list(itertools.accumulate(nums, func = operator.mul)), \\\n",
    "        list(itertools.accumulate(nums[::-1], func = operator.mul))[::-1]\n",
    "    for i in range(1, len(nums) - 1):\n",
    "        r.append(p[i - 1] * s[i + 1])\n",
    "    return [s[1]] + r + [p[-2]]"
   ]
  }
 ],
 "metadata": {
  "kernelspec": {
   "display_name": ".venv",
   "language": "python",
   "name": "python3"
  },
  "language_info": {
   "codemirror_mode": {
    "name": "ipython",
    "version": 3
   },
   "file_extension": ".py",
   "mimetype": "text/x-python",
   "name": "python",
   "nbconvert_exporter": "python",
   "pygments_lexer": "ipython3",
   "version": "3.11.9"
  }
 },
 "nbformat": 4,
 "nbformat_minor": 2
}
