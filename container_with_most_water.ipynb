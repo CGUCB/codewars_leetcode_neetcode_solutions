{
 "cells": [
  {
   "cell_type": "markdown",
   "metadata": {},
   "source": [
    "#### Container With Most Water\n",
    "Neetcode 150 | Medium | Pointers\n",
    "\n",
    "You are given an integer array heights where heights[i] represents the height of the i-th bar.\n",
    "\n",
    "You may choose any two bars to form a container. Return the maximum amount of water a container can store."
   ]
  },
  {
   "cell_type": "code",
   "execution_count": 4,
   "metadata": {},
   "outputs": [],
   "source": [
    "def maxArea(heights: list[int]) -> int:\n",
    "    i, j, m = 0, len(heights) - 1, -1\n",
    "    while i < j:\n",
    "        b1, b2 = heights[i], heights[j]\n",
    "        m = max(m, min(b1, b2) * (j - i))\n",
    "        if b1 < b2:\n",
    "            i += 1\n",
    "        else:\n",
    "            j -= 1\n",
    "    return m"
   ]
  }
 ],
 "metadata": {
  "kernelspec": {
   "display_name": ".venv",
   "language": "python",
   "name": "python3"
  },
  "language_info": {
   "codemirror_mode": {
    "name": "ipython",
    "version": 3
   },
   "file_extension": ".py",
   "mimetype": "text/x-python",
   "name": "python",
   "nbconvert_exporter": "python",
   "pygments_lexer": "ipython3",
   "version": "3.11.9"
  }
 },
 "nbformat": 4,
 "nbformat_minor": 2
}
