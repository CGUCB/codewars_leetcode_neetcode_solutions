{
 "cells": [
  {
   "cell_type": "markdown",
   "metadata": {},
   "source": [
    "### Totally Good Permutations\n",
    "##### Codewars | 3 kyu | 6355b3975abf4f0e5fb61670\n",
    "\n",
    "Given an alphabet of ```n``` letters from the uppercase Enlgish alphabet ```'ABCDEF...XYZ'``` and a list of *bad sub-permutations* of length ```1 <= length <= n``` we want the number of permutations that do not contain any of the bad subpermutations as a substring. (AKA the number of 'totally good' permutations). \n",
    "\n",
    "**Inputs** \\\n",
    "All inputs will be valid.\n",
    "```alphabet``` -> String of ```n``` distinct characters\n",
    "```bads``` -> List of bad sub-permutations. \n",
    "\n",
    "**Outputs** \\\n",
    "Integer count of how many of the ```n!``` permutations are totally good"
   ]
  },
  {
   "cell_type": "markdown",
   "metadata": {},
   "source": [
    "##### Brainstorming\n",
    "So let's say we check each of them individually. We would take each one, find the length difference between the bad and\\\n",
    "full alphabet ```d```, and just subtract ```d!``` from ```n!```. However what happens when there is overlap. There are three cases of overlap:\n",
    "\n",
    "1. One bad substring is completely in another -> ['AECHG', 'AE']\n",
    "2. Two bas substring overlap on either end -> ['ABCDE', 'DEGHU']\n",
    "3. A bad substring is sandwiched by two overlaps on both sides -> ['ABC', 'CDEF', 'FGH']\n",
    "\n",
    "We need to remove the double-counting from our total. \n",
    "\n",
    "**Important:** These relationships are not exclusive. One term can have overlap on the same side with multiple other terms.\\\n",
    "This is ok, just need to take out double-counting for both overlapping relationships. -> ['ABCDE', 'DEF', 'DEK']"
   ]
  },
  {
   "cell_type": "markdown",
   "metadata": {},
   "source": []
  }
 ],
 "metadata": {
  "kernelspec": {
   "display_name": ".venv",
   "language": "python",
   "name": "python3"
  },
  "language_info": {
   "codemirror_mode": {
    "name": "ipython",
    "version": 3
   },
   "file_extension": ".py",
   "mimetype": "text/x-python",
   "name": "python",
   "nbconvert_exporter": "python",
   "pygments_lexer": "ipython3",
   "version": "3.11.9"
  }
 },
 "nbformat": 4,
 "nbformat_minor": 2
}
