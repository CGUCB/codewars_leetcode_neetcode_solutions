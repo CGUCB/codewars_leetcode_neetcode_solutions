{
 "cells": [
  {
   "cell_type": "markdown",
   "metadata": {},
   "source": [
    "### Esolang Interpreters #3 - Custom Paintfuck Interpreter\n",
    "##### Codewars | 4 kyu | 5868a68ba44cfc763e00008d\n",
    "\n",
    "Paintfuck is a descendant of Brainfuck; another esoteric programming language. The following are valid commands:\n",
    "\n",
    "- ```n``` : Move data pointer north (up)\n",
    "- ```e``` : Move data pointer east (right)\n",
    "- ```s``` : Move data pointer west (left)\n",
    "- ```w``` : Move data pointer west (left)\n",
    "- ```*``` : Flip the bit at the current cell\n",
    "- ```[``` : Jump past the matching ```]``` if the bit under the data pointer is a ```0```\n",
    "- ```]``` : Jump back to the matching ```[``` if the bit under the current pointer is ```1```\n",
    "\n",
    "Any non-command characters -- input is case sensitive -- should be ignored. The output is generated on a 2D python list. The code will be run until (1) the number of iterations is exhausted or (2) we reach the end of the code. The pointer always starts at the top left ```(0, 0)```. If we overflow past the bounds of the grid, there is a wrapping behavior (i.e. if we go off the right side, we come back on the left). The return value of the function should be a string version of each row seperated by a CRLF (```\\r\\n```) character. \n",
    "\n",
    "**Note:** The wrapping behavior can be accomplished by using modulo"
   ]
  },
  {
   "cell_type": "code",
   "execution_count": 58,
   "metadata": {},
   "outputs": [],
   "source": [
    "import re\n",
    "def interpreter(code, iterations, width, height):\n",
    "    # Removes all non-command characters\n",
    "    code = re.sub(r'[^nesw\\*\\[\\]]', '', code)\n",
    "    # Create grid and data pointer coord tracker\n",
    "    g, i, j = [[0 for _ in range(width)] for _ in range(height)], 0, 0\n",
    "    # Code index can change with brackets, subtract iterations to track overall\n",
    "    ind = 0\n",
    "\n",
    "    def find_braket(i, back = False):\n",
    "        stack, m = 1, -1 if back else 1\n",
    "        while stack:\n",
    "            i = i + m\n",
    "            if code[i] == ']':\n",
    "                stack -= m\n",
    "            elif code[i] == '[':\n",
    "                stack += m\n",
    "        return i\n",
    "    \n",
    "    while (ind < len(code)) and (iterations > 0):\n",
    "        s = code[ind]\n",
    "        iterations -= 1\n",
    "        match s:\n",
    "            case 'n': i = (i - 1) % height\n",
    "            case 'e': j = (j + 1) % width \n",
    "            case 's': i = (i + 1) % height\n",
    "            case 'w': j = (j - 1) % width\n",
    "            case '*': g[i][j] ^= 1\n",
    "            case '[': \n",
    "                if not g[i][j]: ind = find_braket(ind)\n",
    "            case ']':\n",
    "                if g[i][j]: ind = find_braket(ind, back = True)\n",
    "        ind += 1\n",
    "\n",
    "    return '\\r\\n'.join([''.join(map(str, s)) for s in g])"
   ]
  },
  {
   "cell_type": "code",
   "execution_count": 59,
   "metadata": {},
   "outputs": [
    {
     "data": {
      "text/plain": [
       "'11111\\r\\n11111\\r\\n11111\\r\\n11111\\r\\n11111\\r\\n11111'"
      ]
     },
     "execution_count": 59,
     "metadata": {},
     "output_type": "execute_result"
    }
   ],
   "source": [
    "interpreter(\"*[es*]*\", 3000, 5, 6)"
   ]
  }
 ],
 "metadata": {
  "kernelspec": {
   "display_name": ".venv",
   "language": "python",
   "name": "python3"
  },
  "language_info": {
   "codemirror_mode": {
    "name": "ipython",
    "version": 3
   },
   "file_extension": ".py",
   "mimetype": "text/x-python",
   "name": "python",
   "nbconvert_exporter": "python",
   "pygments_lexer": "ipython3",
   "version": "3.11.9"
  }
 },
 "nbformat": 4,
 "nbformat_minor": 2
}
