{
 "cells": [
  {
   "cell_type": "markdown",
   "metadata": {},
   "source": [
    "#### Valid Sudoku\n",
    "Neetcode 150 | Medium | Arrays & Hashing\n",
    "\n",
    "You are given a a 9 x 9 Sudoku board board. A Sudoku board is valid if the following rules are followed:\n",
    "\n",
    "- Each row must contain the digits 1-9 without duplicates.\n",
    "- Each column must contain the digits 1-9 without duplicates.\n",
    "- Each of the nine 3 x 3 sub-boxes of the grid must contain the digits 1-9 without duplicates.\n",
    "\n",
    "Return true if the Sudoku board is valid, otherwise return false\n",
    "\n",
    "Note: A board does not need to be full or be solvable to be valid."
   ]
  },
  {
   "cell_type": "code",
   "execution_count": 4,
   "metadata": {},
   "outputs": [],
   "source": [
    "from collections import defaultdict\n",
    "def isValidSudoku(board: list[list[str]]) -> bool:\n",
    "        \n",
    "    # Validate Rows\n",
    "    for r in board:\n",
    "        rd = defaultdict(lambda : 0)\n",
    "        for s in r:\n",
    "            if s == '.': continue\n",
    "            if rd[s] > 0: return False\n",
    "            rd[s] += 1\n",
    "\n",
    "    # Validate Columns\n",
    "    for i in range(9):\n",
    "        cd = defaultdict(lambda : 0)\n",
    "        for j in range(9):\n",
    "            if board[j][i] == '.': continue\n",
    "            if cd[board[j][i]] > 0: return False\n",
    "            cd[board[j][i]] += 1\n",
    "\n",
    "    # Validate Sub-Boxes\n",
    "    for i in range(3):\n",
    "        for j in range(3):\n",
    "            sd = defaultdict(lambda : 0)\n",
    "            for x in range(i * 3, i * 3 + 3):\n",
    "                for y in range(j * 3, j * 3 + 3):\n",
    "                    if board[x][y] == '.': continue\n",
    "                    if sd[board[x][y]] > 0: return False\n",
    "                    sd[board[x][y]] += 1\n",
    "    \n",
    "    return True"
   ]
  }
 ],
 "metadata": {
  "kernelspec": {
   "display_name": ".venv",
   "language": "python",
   "name": "python3"
  },
  "language_info": {
   "codemirror_mode": {
    "name": "ipython",
    "version": 3
   },
   "file_extension": ".py",
   "mimetype": "text/x-python",
   "name": "python",
   "nbconvert_exporter": "python",
   "pygments_lexer": "ipython3",
   "version": "3.11.9"
  }
 },
 "nbformat": 4,
 "nbformat_minor": 2
}
