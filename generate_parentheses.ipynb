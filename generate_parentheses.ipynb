{
 "cells": [
  {
   "cell_type": "markdown",
   "metadata": {},
   "source": [
    "#### Evaluate Reverse Polish Notation\n",
    "Neetcode 150 | Medium | Stacks\n",
    "\n",
    "You are given an integer n. Return all well-formed parentheses strings that you can generate with n pairs of parentheses.\n",
    "\n",
    "You should aim for a solution as good or better than O(4^n / sqrt(n)) time and O(n) space, where n is the number of parenthesis pairs in the string. "
   ]
  },
  {
   "cell_type": "code",
   "execution_count": 11,
   "metadata": {},
   "outputs": [],
   "source": [
    "def generateParenthesis(n: int) -> list[str]:\n",
    "\n",
    "    def helper(ob: int, cb: int, s: str) -> list[str]:\n",
    "        r = [] # Stores combinations\n",
    "\n",
    "        if ob > 0: # If we have budget to add extra open parens\n",
    "            r.extend(helper(ob - 1, cb, s + '('))\n",
    "\n",
    "        if cb > ob: # If we have budget to close a paren\n",
    "            r.extend(helper(ob, cb - 1, s + ')'))\n",
    "\n",
    "        if (ob == 0) and (cb == 0): # If we are at the bottom of the tree\n",
    "            r.extend([s])\n",
    "        \n",
    "        return r\n",
    "    \n",
    "    return helper(n, n, '')"
   ]
  },
  {
   "cell_type": "code",
   "execution_count": 13,
   "metadata": {},
   "outputs": [
    {
     "data": {
      "text/plain": [
       "['((()))', '(()())', '(())()', '()(())', '()()()']"
      ]
     },
     "execution_count": 13,
     "metadata": {},
     "output_type": "execute_result"
    }
   ],
   "source": [
    "generateParenthesis(3)"
   ]
  }
 ],
 "metadata": {
  "kernelspec": {
   "display_name": ".venv",
   "language": "python",
   "name": "python3"
  },
  "language_info": {
   "codemirror_mode": {
    "name": "ipython",
    "version": 3
   },
   "file_extension": ".py",
   "mimetype": "text/x-python",
   "name": "python",
   "nbconvert_exporter": "python",
   "pygments_lexer": "ipython3",
   "version": "3.11.9"
  }
 },
 "nbformat": 4,
 "nbformat_minor": 2
}
